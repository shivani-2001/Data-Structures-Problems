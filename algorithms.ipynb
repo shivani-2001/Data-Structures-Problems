{
 "cells": [
  {
   "cell_type": "markdown",
   "metadata": {},
   "source": [
    "### Quick-find Problem"
   ]
  },
  {
   "cell_type": "code",
   "execution_count": 1,
   "metadata": {},
   "outputs": [
    {
     "name": "stdout",
     "output_type": "stream",
     "text": [
      "(4, 3)\n",
      "(3, 8)\n",
      "(6, 5)\n",
      "(9, 4)\n",
      "(2, 1)\n",
      "(5, 0)\n",
      "(7, 2)\n",
      "(6, 1)\n"
     ]
    }
   ],
   "source": [
    "class QuickFind:\n",
    "    def __init__(self, n):\n",
    "        self.id = [i for i in range(n)]\n",
    "\n",
    "    def connected(self, p, q):\n",
    "        return self.id[p] == self.id[q]\n",
    "\n",
    "    def union(self, p, q):\n",
    "        pid = self.id[p]\n",
    "        qid = self.id[q]\n",
    "        for i in range(len(self.id)):\n",
    "            if self.id[i] == pid:\n",
    "                self.id[i] = qid\n",
    "\n",
    "\n",
    "n = 10\n",
    "sets = [(4, 3), (3, 8), (6, 5), (9, 4), (2, 1), (8, 9), (5, 0), (7, 2), (6, 1), (1, 0), (6, 7)]\n",
    "\n",
    "Q = QuickFind(n)\n",
    "for set in sets:\n",
    "    if not Q.connected(set[0], set[1]):\n",
    "        Q.union(set[0], set[1])\n",
    "        print(set)\n",
    "\n",
    "        \n",
    "# Time Complexity - O(n^2)\n",
    "# Space Complexity - O(n)"
   ]
  },
  {
   "cell_type": "markdown",
   "metadata": {},
   "source": [
    "### Quick-union Problem"
   ]
  },
  {
   "cell_type": "code",
   "execution_count": 2,
   "metadata": {},
   "outputs": [
    {
     "name": "stdout",
     "output_type": "stream",
     "text": [
      "(4, 3)\n",
      "(3, 8)\n",
      "(6, 5)\n",
      "(9, 4)\n",
      "(2, 1)\n",
      "(5, 0)\n",
      "(7, 2)\n",
      "(6, 1)\n"
     ]
    }
   ],
   "source": [
    "class QuickUnion:\n",
    "    def __init__(self, n):\n",
    "        self.id = [i for i in range(n)]\n",
    "\n",
    "    def root(self, i):\n",
    "        while i != self.id[i]:\n",
    "            i = self.id[i]\n",
    "            \n",
    "        return i\n",
    "    \n",
    "    def connected(self, p, q):\n",
    "        return self.root(p) == self.root(q)\n",
    "    \n",
    "    def union(self, p, q):\n",
    "        self.id[self.root(p)] = self.root(q)\n",
    "        \n",
    "\n",
    "n = 10\n",
    "sets = [(4, 3), (3, 8), (6, 5), (9, 4), (2, 1), (8, 9), (5, 0), (7, 2), (6, 1), (1, 0), (6, 7)]\n",
    "\n",
    "Q = QuickUnion(n)\n",
    "for set in sets:\n",
    "    if not Q.connected(set[0], set[1]):\n",
    "        Q.union(set[0], set[1])\n",
    "        print(set)\n",
    "        \n",
    "        \n",
    "# Trees can get tall and find is too expensive."
   ]
  },
  {
   "cell_type": "markdown",
   "metadata": {},
   "source": [
    "### Weighting"
   ]
  },
  {
   "cell_type": "code",
   "execution_count": 3,
   "metadata": {},
   "outputs": [
    {
     "name": "stdout",
     "output_type": "stream",
     "text": [
      "(4, 3)\n",
      "(3, 8)\n",
      "(6, 5)\n",
      "(9, 4)\n",
      "(2, 1)\n",
      "(5, 0)\n",
      "(7, 2)\n",
      "(6, 1)\n"
     ]
    }
   ],
   "source": [
    "# QuickUnion might put the larger tree lower\n",
    "# Weighted always chose the better alternative\n",
    "\n",
    "class WeightedQuickUnion:\n",
    "    def __init__(self, n):\n",
    "        self.id = [i for i in range(n)]\n",
    "        self.size = [1 for i in range(n)]\n",
    "        \n",
    "    def root(self, i):\n",
    "        while i != self.id[i]:\n",
    "            i = self.id[i]\n",
    "            \n",
    "        return i\n",
    "    \n",
    "    def connected(self, p, q):\n",
    "        return self.root(p) == self.root(q)\n",
    "    \n",
    "    def union(self, p, q):\n",
    "        pid = self.root(p)\n",
    "        qid = self.root(q)\n",
    "        if self.size[pid] < self.size[qid]:\n",
    "            self.id[pid] = qid\n",
    "            self.size[qid] += self.size[pid]\n",
    "        else:\n",
    "            self.id[qid] = pid\n",
    "            self.size[pid] += self.size[qid]\n",
    "            \n",
    "            \n",
    "n = 10\n",
    "sets = [(4, 3), (3, 8), (6, 5), (9, 4), (2, 1), (8, 9), (5, 0), (7, 2), (6, 1), (1, 0), (6, 7)]\n",
    "\n",
    "Q = WeightedQuickUnion(n)\n",
    "for set in sets:\n",
    "    if not Q.connected(set[0], set[1]):\n",
    "        Q.union(set[0], set[1])\n",
    "        print(set)\n",
    "        \n",
    "\n",
    "# Depth of any node x is at most lg(n)"
   ]
  },
  {
   "cell_type": "code",
   "execution_count": 4,
   "metadata": {},
   "outputs": [
    {
     "name": "stdout",
     "output_type": "stream",
     "text": [
      "(4, 3)\n",
      "(3, 8)\n",
      "(6, 5)\n",
      "(9, 4)\n",
      "(2, 1)\n",
      "(5, 0)\n",
      "(7, 2)\n",
      "(6, 1)\n"
     ]
    }
   ],
   "source": [
    "# Path Compression\n",
    "\n",
    "class WeightedPCQuickUnion:\n",
    "    def __init__(self, n):\n",
    "        self.id = [i for i in range(n)]\n",
    "        self.size = [1 for i in range(n)]\n",
    "        \n",
    "    def root(self, i):\n",
    "        while i != self.id[i]:\n",
    "            self.id[i] = self.id[self.id[i]]\n",
    "            i = self.id[i]\n",
    "            \n",
    "        return i\n",
    "    \n",
    "    def connected(self, p, q):\n",
    "        return self.root(p) == self.root(q)\n",
    "    \n",
    "    def union(self, p, q):\n",
    "        pid = self.root(p)\n",
    "        qid = self.root(q)\n",
    "        if self.size[pid] < self.size[qid]:\n",
    "            self.id[pid] = qid\n",
    "            self.size[qid] += self.size[pid]\n",
    "        else:\n",
    "            self.id[qid] = pid\n",
    "            self.size[pid] += self.size[qid]\n",
    "            \n",
    "            \n",
    "n = 10\n",
    "sets = [(4, 3), (3, 8), (6, 5), (9, 4), (2, 1), (8, 9), (5, 0), (7, 2), (6, 1), (1, 0), (6, 7)]\n",
    "\n",
    "Q = WeightedQuickUnion(n)\n",
    "for set in sets:\n",
    "    if not Q.connected(set[0], set[1]):\n",
    "        Q.union(set[0], set[1])\n",
    "        print(set)\n",
    "        \n",
    "\n",
    "# Only one extra line of code keeps tree almost flat."
   ]
  },
  {
   "cell_type": "code",
   "execution_count": 7,
   "metadata": {},
   "outputs": [],
   "source": [
    "# 3-sum Brute-Force Algorithm -> O(n^3)\n",
    "\n",
    "# Predict the time complexity for n number of steps -> T(n) = a*n^b\n",
    "# T(n) - time complexity\n",
    "# a - constant\n",
    "# n - number of steps\n",
    "# b - constant\n",
    "\n",
    "# Calculate the a by keeping b as double.\n",
    "\n",
    "# How many array accesses does the following code fragment make as a function of n?\n",
    "\n",
    "# int sum = 0;\n",
    "# for (int i = 0; i < n; i++)\n",
    "#     for (int j = i+1; j < n; j++)\n",
    "#         for (int k = 1; k < n; k = k*2)\n",
    "#             if (a[i] + a[j] >= a[k]) sum++;\n",
    "\n",
    "\n",
    "# Answer - 3/2 n^2 log(n)\n",
    "\n",
    "\n",
    "# Binary Search -> O(log(n))"
   ]
  },
  {
   "cell_type": "markdown",
   "metadata": {},
   "source": [
    "### 3-sum Problem\n",
    "\n",
    "Finding all unique triplets of numbers in an array that sum up to a given target."
   ]
  },
  {
   "cell_type": "code",
   "execution_count": 3,
   "metadata": {},
   "outputs": [
    {
     "data": {
      "text/plain": [
       "{(-40, 10, 30), (-10, 0, 10)}"
      ]
     },
     "execution_count": 3,
     "metadata": {},
     "output_type": "execute_result"
    }
   ],
   "source": [
    "# Sort the array -> O(n log(n)) -> Timsort\n",
    "# For each pair of numbers a[i] and a[j], apply binary search for -(a[i] + a[j])\n",
    "# Time complexity with binary search -> O(n^2 log(n))\n",
    "\n",
    "def three_sum(arr):\n",
    "    arr.sort()\n",
    "    triplets = set()\n",
    "    \n",
    "    for i in range(len(arr)):\n",
    "        for j in range(i+1, len(arr)):\n",
    "            target = -(arr[i] + arr[j])\n",
    "            left, right = j+1, len(arr)-1\n",
    "            \n",
    "            while left < right:\n",
    "                mid = (left+right)//2\n",
    "                if arr[mid] == target:\n",
    "                    triplet = tuple(sorted([arr[i], arr[j], arr[mid]]))\n",
    "                    triplets.add(triplet)\n",
    "                    break\n",
    "                elif arr[left] + arr[right] < mid:\n",
    "                    left = mid+1\n",
    "                else:\n",
    "                    right = mid-1\n",
    "\n",
    "    return triplets\n",
    "\n",
    "\n",
    "input = [30, -40, -20, -10, 40, 0, 10, 5]\n",
    "three_sum(input)"
   ]
  },
  {
   "cell_type": "markdown",
   "metadata": {},
   "source": [
    "### Stack & Queue"
   ]
  },
  {
   "cell_type": "code",
   "execution_count": 1,
   "metadata": {},
   "outputs": [
    {
     "name": "stdout",
     "output_type": "stream",
     "text": [
      "to\n",
      "be\n",
      "not\n",
      "that\n",
      "or\n",
      "be\n"
     ]
    }
   ],
   "source": [
    "class Stack:\n",
    "    def __init__(self):\n",
    "        self.items = []\n",
    "        \n",
    "    def push(self, item):\n",
    "        self.items.append(item)\n",
    "        \n",
    "    def pop(self):\n",
    "        return self.items.pop()\n",
    "    \n",
    "    def is_empty(self):\n",
    "        return self.items == []\n",
    "\n",
    "\n",
    "strings = [\"to\", \"be\", \"or\", \"not\", \"to\", \"-\", \"be\", \"-\", \"-\", \"that\", \"-\", \"-\", \"-\", \"is\"]\n",
    "stack = Stack()\n",
    "for s in strings:\n",
    "    if s != \"-\":\n",
    "        stack.push(s)\n",
    "    else:\n",
    "        if not stack.is_empty():\n",
    "            print(stack.pop()) "
   ]
  },
  {
   "cell_type": "code",
   "execution_count": 2,
   "metadata": {},
   "outputs": [
    {
     "name": "stdout",
     "output_type": "stream",
     "text": [
      "to\n",
      "be\n",
      "not\n",
      "that\n",
      "or\n",
      "be\n"
     ]
    }
   ],
   "source": [
    "class Node:\n",
    "    def __init__(self, data):\n",
    "        self.data = data\n",
    "        self.next = None\n",
    "        \n",
    "        \n",
    "class StackLinkedList:\n",
    "    def __init__(self):\n",
    "        self.head = None\n",
    "        \n",
    "    def push(self, data):\n",
    "        node = Node(data)\n",
    "        node.next = self.head\n",
    "        self.head = node\n",
    "        \n",
    "    def pop(self):\n",
    "        data = self.head.data\n",
    "        self.head = self.head.next\n",
    "        return data\n",
    "        \n",
    "    def is_empty(self):\n",
    "        return self.head == None\n",
    "        \n",
    "        \n",
    "strings = [\"to\", \"be\", \"or\", \"not\", \"to\", \"-\", \"be\", \"-\", \"-\", \"that\", \"-\", \"-\", \"-\", \"is\"]\n",
    "stack = StackLinkedList()\n",
    "for s in strings:\n",
    "    if s != \"-\":\n",
    "        stack.push(s)\n",
    "    else:\n",
    "        if not stack.is_empty():\n",
    "            print(stack.pop())"
   ]
  },
  {
   "cell_type": "code",
   "execution_count": 3,
   "metadata": {},
   "outputs": [
    {
     "name": "stdout",
     "output_type": "stream",
     "text": [
      "to\n",
      "be\n",
      "or\n",
      "not\n",
      "to\n",
      "be\n"
     ]
    }
   ],
   "source": [
    "class Queue:\n",
    "    def __init__(self):\n",
    "        self.items = []\n",
    "        \n",
    "    def enqueue(self, item):\n",
    "        self.items.append(item)\n",
    "        \n",
    "    def dequeue(self):\n",
    "        return self.items.pop(0)\n",
    "    \n",
    "    def is_empty(self):\n",
    "        return self.items == []\n",
    "\n",
    "\n",
    "strings = [\"to\", \"be\", \"or\", \"not\", \"to\", \"-\", \"be\", \"-\", \"-\", \"that\", \"-\", \"-\", \"-\", \"is\"]\n",
    "queue = Queue()\n",
    "for s in strings:\n",
    "    if s != \"-\":\n",
    "        queue.enqueue(s)\n",
    "    else:\n",
    "        if not queue.is_empty():\n",
    "            print(queue.dequeue()) "
   ]
  },
  {
   "cell_type": "code",
   "execution_count": 7,
   "metadata": {},
   "outputs": [
    {
     "name": "stdout",
     "output_type": "stream",
     "text": [
      "to\n",
      "be\n",
      "or\n",
      "not\n",
      "to\n",
      "be\n"
     ]
    }
   ],
   "source": [
    "class Node:\n",
    "    def __init__(self, data):\n",
    "        self.data = data\n",
    "        self.next = None\n",
    "        \n",
    "        \n",
    "class QueueLinkedList:\n",
    "    def __init__(self):\n",
    "        self.front = None\n",
    "        self.rear = None\n",
    "        \n",
    "    def enqueue(self, data):\n",
    "        node = Node(data)\n",
    "        if self.rear == None:\n",
    "            self.front = node\n",
    "            self.rear = node\n",
    "        else:\n",
    "            self.rear.next = node\n",
    "            self.rear = node\n",
    "        \n",
    "    def dequeue(self):\n",
    "        data = self.front.data\n",
    "        self.front = self.front.next\n",
    "        \n",
    "        if self.front == None:\n",
    "            self.rear = None\n",
    "            \n",
    "        return data\n",
    "        \n",
    "    def is_empty(self):\n",
    "        return self.front == None\n",
    "        \n",
    "        \n",
    "strings = [\"to\", \"be\", \"or\", \"not\", \"to\", \"-\", \"be\", \"-\", \"-\", \"that\", \"-\", \"-\", \"-\", \"is\"]\n",
    "queue = QueueLinkedList()\n",
    "for s in strings:\n",
    "    if s != \"-\":\n",
    "        queue.enqueue(s)\n",
    "    else:\n",
    "        if not queue.is_empty():\n",
    "            print(queue.dequeue())"
   ]
  },
  {
   "cell_type": "markdown",
   "metadata": {},
   "source": [
    "### Arithmetic Expression Evaluation\n",
    "Infix, Prefix, Postfix expressions"
   ]
  },
  {
   "cell_type": "code",
   "execution_count": 12,
   "metadata": {},
   "outputs": [
    {
     "data": {
      "text/plain": [
       "[22]"
      ]
     },
     "execution_count": 12,
     "metadata": {},
     "output_type": "execute_result"
    }
   ],
   "source": [
    "def evalRPN(tokens):\n",
    "    stack = []\n",
    "    for t in tokens:\n",
    "        if t in [\"+\", \"-\", \"*\", \"/\"]:\n",
    "            b = stack.pop()\n",
    "            a = stack.pop()\n",
    "        \n",
    "        if t == \"+\":\n",
    "            stack.append(a+b)\n",
    "        elif t == \"-\":\n",
    "            stack.append(a-b)\n",
    "        elif t == \"*\":\n",
    "            stack.append(a*b)\n",
    "        elif t == \"/\":\n",
    "            stack.append(int(a/b))\n",
    "        else:\n",
    "            stack.append(int(t))\n",
    "            \n",
    "    return stack\n",
    "\n",
    "\n",
    "tokens = [\"10\",\"6\",\"9\",\"3\",\"+\",\"-11\",\"*\",\"/\",\"*\",\"17\",\"+\",\"5\",\"+\"]\n",
    "evalRPN(tokens)"
   ]
  },
  {
   "cell_type": "markdown",
   "metadata": {},
   "source": [
    "### Password Reset\n",
    "Use the minimum number of operations (replace chars) to make the permutation as palindrome and if multiple permutations are possible then return the one with alphabetically lowest."
   ]
  },
  {
   "cell_type": "code",
   "execution_count": 45,
   "metadata": {},
   "outputs": [
    {
     "name": "stdout",
     "output_type": "stream",
     "text": [
      "bcdcb\n"
     ]
    }
   ],
   "source": [
    "def make_palindrome(s):\n",
    "    freq = {}\n",
    "    for i in s:\n",
    "        if i in freq:\n",
    "            freq[i] += 1\n",
    "        else:\n",
    "            freq[i] = 1\n",
    "            \n",
    "    odd_chars = [k for k,v in freq.items() if v%2 != 0]\n",
    "\n",
    "    if len(odd_chars) > 1:\n",
    "        odd_chars.sort()\n",
    "        \n",
    "    for c in range(len(odd_chars)//2):\n",
    "        freq[odd_chars[c]] += 1\n",
    "        freq[odd_chars[-c-1]] -= 1\n",
    "        \n",
    "    first_s = []\n",
    "    middle_char = ''\n",
    "\n",
    "    for char in sorted(freq.keys()):\n",
    "        if (freq[char] % 2) == 0:\n",
    "            first_s.extend(char * (freq[char]//2))\n",
    "        else:\n",
    "            middle_char = char\n",
    "\n",
    "    second_s = first_s[::-1]\n",
    "    final_s = ''.join(first_s) + middle_char + ''.join(second_s)\n",
    "\n",
    "    return final_s\n",
    "\n",
    "s = \"bbcde\"\n",
    "result = make_palindrome(s)\n",
    "print(result)"
   ]
  },
  {
   "cell_type": "code",
   "execution_count": 39,
   "metadata": {},
   "outputs": [
    {
     "data": {
      "text/plain": [
       "6"
      ]
     },
     "execution_count": 39,
     "metadata": {},
     "output_type": "execute_result"
    }
   ],
   "source": [
    "def solution(n):\n",
    "    n = str(n)\n",
    "    res = list(map(int, n))\n",
    "    res = sum(res)\n",
    "    \n",
    "    return res\n",
    "\n",
    "solution(123)"
   ]
  },
  {
   "cell_type": "code",
   "execution_count": 46,
   "metadata": {},
   "outputs": [
    {
     "name": "stdout",
     "output_type": "stream",
     "text": [
      "True\n",
      "False\n"
     ]
    }
   ],
   "source": [
    "def are_they_equal(array_a, array_b):\n",
    "    dict_a = {}\n",
    "    dict_b = {}\n",
    "\n",
    "    if len(array_a) != len(array_b):\n",
    "        return False\n",
    "\n",
    "    for i in range(len(array_a)):\n",
    "        if array_a[i] in dict_a:\n",
    "            dict_a[array_a[i]] += 1\n",
    "        else:\n",
    "            dict_a[array_a[i]] = 1\n",
    "        \n",
    "        if array_b[i] in dict_b:\n",
    "            dict_b[array_b[i]] += 1\n",
    "        else:\n",
    "            dict_b[array_b[i]] = 1 \n",
    "\n",
    "    if dict_a == dict_b:\n",
    "        return True\n",
    "    else:\n",
    "        return False\n",
    "\n",
    "\n",
    "n_1 = 4\n",
    "a_1 = [1, 2, 3, 4]\n",
    "b_1 = [1, 4, 3, 2]\n",
    "output_1 = are_they_equal(a_1, b_1)\n",
    "print(output_1)\n",
    "\n",
    "n_2 = 4\n",
    "a_2 = [1, 2, 3, 4]\n",
    "b_2 = [1, 2, 3, 5]  \n",
    "output_2 = are_they_equal(a_2, b_2)\n",
    "print(output_2)"
   ]
  },
  {
   "cell_type": "code",
   "execution_count": 51,
   "metadata": {},
   "outputs": [
    {
     "data": {
      "text/plain": [
       "6"
      ]
     },
     "execution_count": 51,
     "metadata": {},
     "output_type": "execute_result"
    }
   ],
   "source": [
    "def maxSubArray(nums):\n",
    "    max_sum = nums[0]\n",
    "    current_sum = nums[0]\n",
    "    for i in range(1, len(nums)):\n",
    "        if current_sum < 0:\n",
    "            current_sum = 0\n",
    "        \n",
    "        current_sum += nums[i]\n",
    "        max_sum = max(current_sum, max_sum)\n",
    "\n",
    "    return max_sum\n",
    "\n",
    "\n",
    "maxSubArray([-2,1,-3,4,-1,2,1,-5,4])"
   ]
  },
  {
   "cell_type": "code",
   "execution_count": 5,
   "metadata": {},
   "outputs": [
    {
     "name": "stdout",
     "output_type": "stream",
     "text": [
      "[1, 3, 1, 5, 1]\n",
      "[1, 2, 6, 1, 3, 1]\n"
     ]
    }
   ],
   "source": [
    "def count_subarrays(arr):\n",
    "    n = len(arr)\n",
    "    result = [0]*n\n",
    "\n",
    "    for i in range(n):\n",
    "        left = 0\n",
    "        right = n-1\n",
    "        start = left\n",
    "        end = right\n",
    "\n",
    "        while left <= i and right >= i:\n",
    "            if arr[left] > arr[i]:\n",
    "                start = left+1\n",
    "            \n",
    "            if arr[right] > arr[i]:\n",
    "                end = right-1\n",
    "            \n",
    "            left += 1\n",
    "            right -= 1\n",
    "            \n",
    "        if left < i:\n",
    "            while left < i:\n",
    "                if arr[left] > arr[i]:\n",
    "                    start = left+1\n",
    "                left += 1\n",
    "        else:\n",
    "            while right > i:\n",
    "                if arr[right] > arr[i]:\n",
    "                    end = right-1\n",
    "                right -= 1\n",
    "        \n",
    "        result[i] = end-start+1\n",
    "\n",
    "    return result\n",
    "\n",
    "\n",
    "test_1 = [3, 4, 1, 6, 2]\n",
    "expected_1 = [1, 3, 1, 5, 1]\n",
    "output_1 = count_subarrays(test_1)\n",
    "print(output_1)\n",
    "\n",
    "test_2 = [2, 4, 7, 1, 5, 3]\n",
    "expected_2 = [1, 2, 6, 1, 3, 1]\n",
    "output_2 = count_subarrays(test_2)\n",
    "print(output_2)"
   ]
  }
 ],
 "metadata": {
  "kernelspec": {
   "display_name": "base",
   "language": "python",
   "name": "python3"
  },
  "language_info": {
   "codemirror_mode": {
    "name": "ipython",
    "version": 3
   },
   "file_extension": ".py",
   "mimetype": "text/x-python",
   "name": "python",
   "nbconvert_exporter": "python",
   "pygments_lexer": "ipython3",
   "version": "3.11.9"
  }
 },
 "nbformat": 4,
 "nbformat_minor": 2
}
