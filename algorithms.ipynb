{
 "cells": [
  {
   "cell_type": "markdown",
   "metadata": {},
   "source": [
    "### Quick-find Problem"
   ]
  },
  {
   "cell_type": "code",
   "execution_count": 61,
   "metadata": {},
   "outputs": [
    {
     "name": "stdout",
     "output_type": "stream",
     "text": [
      "(4, 3)\n",
      "(3, 8)\n",
      "(6, 5)\n",
      "(9, 4)\n",
      "(2, 1)\n",
      "(5, 0)\n",
      "(7, 2)\n",
      "(6, 1)\n"
     ]
    }
   ],
   "source": [
    "class QuickFind:\n",
    "    def __init__(self, n):\n",
    "        self.id = [i for i in range(n)]\n",
    "\n",
    "    def connected(self, p, q):\n",
    "        return self.id[p] == self.id[q]\n",
    "\n",
    "    def union(self, p, q):\n",
    "        pid = self.id[p]\n",
    "        qid = self.id[q]\n",
    "        for i in range(len(self.id)):\n",
    "            if self.id[i] == pid:\n",
    "                self.id[i] = qid\n",
    "\n",
    "\n",
    "n = 10\n",
    "sets = [(4, 3), (3, 8), (6, 5), (9, 4), (2, 1), (8, 9), (5, 0), (7, 2), (6, 1), (1, 0), (6, 7)]\n",
    "\n",
    "Q = QuickFind(n)\n",
    "for set in sets:\n",
    "    if not Q.connected(set[0], set[1]):\n",
    "        Q.union(set[0], set[1])\n",
    "        print(set)\n",
    "\n",
    "        \n",
    "# Time Complexity - O(n^2)\n",
    "# Space Complexity - O(n)"
   ]
  },
  {
   "cell_type": "markdown",
   "metadata": {},
   "source": [
    "### Quick-union Problem"
   ]
  },
  {
   "cell_type": "code",
   "execution_count": 2,
   "metadata": {},
   "outputs": [
    {
     "name": "stdout",
     "output_type": "stream",
     "text": [
      "(4, 3)\n",
      "(3, 8)\n",
      "(6, 5)\n",
      "(9, 4)\n",
      "(2, 1)\n",
      "(5, 0)\n",
      "(7, 2)\n",
      "(6, 1)\n"
     ]
    }
   ],
   "source": [
    "class QuickUnion:\n",
    "    def __init__(self, n):\n",
    "        self.id = [i for i in range(n)]\n",
    "\n",
    "    def root(self, i):\n",
    "        while i != self.id[i]:\n",
    "            i = self.id[i]\n",
    "            \n",
    "        return i\n",
    "    \n",
    "    def connected(self, p, q):\n",
    "        return self.root(p) == self.root(q)\n",
    "    \n",
    "    def union(self, p, q):\n",
    "        self.id[self.root(p)] = self.root(q)\n",
    "        \n",
    "\n",
    "n = 10\n",
    "sets = [(4, 3), (3, 8), (6, 5), (9, 4), (2, 1), (8, 9), (5, 0), (7, 2), (6, 1), (1, 0), (6, 7)]\n",
    "\n",
    "Q = QuickUnion(n)\n",
    "for set in sets:\n",
    "    if not Q.connected(set[0], set[1]):\n",
    "        Q.union(set[0], set[1])\n",
    "        print(set)\n",
    "        \n",
    "        \n",
    "# Trees can get tall and find is too expensive."
   ]
  },
  {
   "cell_type": "markdown",
   "metadata": {},
   "source": [
    "### Weighting"
   ]
  },
  {
   "cell_type": "code",
   "execution_count": 3,
   "metadata": {},
   "outputs": [
    {
     "name": "stdout",
     "output_type": "stream",
     "text": [
      "(4, 3)\n",
      "(3, 8)\n",
      "(6, 5)\n",
      "(9, 4)\n",
      "(2, 1)\n",
      "(5, 0)\n",
      "(7, 2)\n",
      "(6, 1)\n"
     ]
    }
   ],
   "source": [
    "# QuickUnion might put the larger tree lower\n",
    "# Weighted always chose the better alternative\n",
    "\n",
    "class WeightedQuickUnion:\n",
    "    def __init__(self, n):\n",
    "        self.id = [i for i in range(n)]\n",
    "        self.size = [1 for i in range(n)]\n",
    "        \n",
    "    def root(self, i):\n",
    "        while i != self.id[i]:\n",
    "            i = self.id[i]\n",
    "            \n",
    "        return i\n",
    "    \n",
    "    def connected(self, p, q):\n",
    "        return self.root(p) == self.root(q)\n",
    "    \n",
    "    def union(self, p, q):\n",
    "        pid = self.root(p)\n",
    "        qid = self.root(q)\n",
    "        if self.size[pid] < self.size[qid]:\n",
    "            self.id[pid] = qid\n",
    "            self.size[qid] += self.size[pid]\n",
    "        else:\n",
    "            self.id[qid] = pid\n",
    "            self.size[pid] += self.size[qid]\n",
    "            \n",
    "            \n",
    "n = 10\n",
    "sets = [(4, 3), (3, 8), (6, 5), (9, 4), (2, 1), (8, 9), (5, 0), (7, 2), (6, 1), (1, 0), (6, 7)]\n",
    "\n",
    "Q = WeightedQuickUnion(n)\n",
    "for set in sets:\n",
    "    if not Q.connected(set[0], set[1]):\n",
    "        Q.union(set[0], set[1])\n",
    "        print(set)\n",
    "        \n",
    "\n",
    "# Depth of any node x is at most lg(n)"
   ]
  },
  {
   "cell_type": "code",
   "execution_count": 4,
   "metadata": {},
   "outputs": [
    {
     "name": "stdout",
     "output_type": "stream",
     "text": [
      "(4, 3)\n",
      "(3, 8)\n",
      "(6, 5)\n",
      "(9, 4)\n",
      "(2, 1)\n",
      "(5, 0)\n",
      "(7, 2)\n",
      "(6, 1)\n"
     ]
    }
   ],
   "source": [
    "# Path Compression\n",
    "\n",
    "class WeightedPCQuickUnion:\n",
    "    def __init__(self, n):\n",
    "        self.id = [i for i in range(n)]\n",
    "        self.size = [1 for i in range(n)]\n",
    "        \n",
    "    def root(self, i):\n",
    "        while i != self.id[i]:\n",
    "            self.id[i] = self.id[self.id[i]]\n",
    "            i = self.id[i]\n",
    "            \n",
    "        return i\n",
    "    \n",
    "    def connected(self, p, q):\n",
    "        return self.root(p) == self.root(q)\n",
    "    \n",
    "    def union(self, p, q):\n",
    "        pid = self.root(p)\n",
    "        qid = self.root(q)\n",
    "        if self.size[pid] < self.size[qid]:\n",
    "            self.id[pid] = qid\n",
    "            self.size[qid] += self.size[pid]\n",
    "        else:\n",
    "            self.id[qid] = pid\n",
    "            self.size[pid] += self.size[qid]\n",
    "            \n",
    "            \n",
    "n = 10\n",
    "sets = [(4, 3), (3, 8), (6, 5), (9, 4), (2, 1), (8, 9), (5, 0), (7, 2), (6, 1), (1, 0), (6, 7)]\n",
    "\n",
    "Q = WeightedQuickUnion(n)\n",
    "for set in sets:\n",
    "    if not Q.connected(set[0], set[1]):\n",
    "        Q.union(set[0], set[1])\n",
    "        print(set)\n",
    "        \n",
    "\n",
    "# Only one extra line of code keeps tree almost flat."
   ]
  },
  {
   "cell_type": "code",
   "execution_count": 7,
   "metadata": {},
   "outputs": [],
   "source": [
    "# 3-sum Brute-Force Algorithm -> O(n^3)\n",
    "\n",
    "# Predict the time complexity for n number of steps -> T(n) = a*n^b\n",
    "# T(n) - time complexity\n",
    "# a - constant\n",
    "# n - number of steps\n",
    "# b - constant\n",
    "\n",
    "# Calculate the a by keeping b as double.\n",
    "\n",
    "# How many array accesses does the following code fragment make as a function of n?\n",
    "\n",
    "# int sum = 0;\n",
    "# for (int i = 0; i < n; i++)\n",
    "#     for (int j = i+1; j < n; j++)\n",
    "#         for (int k = 1; k < n; k = k*2)\n",
    "#             if (a[i] + a[j] >= a[k]) sum++;\n",
    "\n",
    "\n",
    "# Answer - 3/2 n^2 log(n)\n",
    "\n",
    "\n",
    "# Binary Search -> O(log(n))"
   ]
  },
  {
   "cell_type": "markdown",
   "metadata": {},
   "source": [
    "### 3-sum Problem\n",
    "\n",
    "Finding all unique triplets of numbers in an array that sum up to a given target."
   ]
  },
  {
   "cell_type": "code",
   "execution_count": 3,
   "metadata": {},
   "outputs": [
    {
     "data": {
      "text/plain": [
       "{(-40, 10, 30), (-10, 0, 10)}"
      ]
     },
     "execution_count": 3,
     "metadata": {},
     "output_type": "execute_result"
    }
   ],
   "source": [
    "# Sort the array -> O(n log(n)) -> Timsort\n",
    "# For each pair of numbers a[i] and a[j], apply binary search for -(a[i] + a[j])\n",
    "# Time complexity with binary search -> O(n^2 log(n))\n",
    "\n",
    "def three_sum(arr):\n",
    "    arr.sort()\n",
    "    triplets = set()\n",
    "    \n",
    "    for i in range(len(arr)):\n",
    "        for j in range(i+1, len(arr)):\n",
    "            target = -(arr[i] + arr[j])\n",
    "            left, right = j+1, len(arr)-1\n",
    "            \n",
    "            while left < right:\n",
    "                mid = (left+right)//2\n",
    "                if arr[mid] == target:\n",
    "                    triplet = tuple(sorted([arr[i], arr[j], arr[mid]]))\n",
    "                    triplets.add(triplet)\n",
    "                    break\n",
    "                elif arr[left] + arr[right] < mid:\n",
    "                    left = mid+1\n",
    "                else:\n",
    "                    right = mid-1\n",
    "\n",
    "    return triplets\n",
    "\n",
    "\n",
    "input = [30, -40, -20, -10, 40, 0, 10, 5]\n",
    "three_sum(input)"
   ]
  },
  {
   "cell_type": "markdown",
   "metadata": {},
   "source": [
    "### Stack & Queue"
   ]
  },
  {
   "cell_type": "code",
   "execution_count": 1,
   "metadata": {},
   "outputs": [
    {
     "name": "stdout",
     "output_type": "stream",
     "text": [
      "to\n",
      "be\n",
      "not\n",
      "that\n",
      "or\n",
      "be\n"
     ]
    }
   ],
   "source": [
    "class Stack:\n",
    "    def __init__(self):\n",
    "        self.items = []\n",
    "        \n",
    "    def push(self, item):\n",
    "        self.items.append(item)\n",
    "        \n",
    "    def pop(self):\n",
    "        return self.items.pop()\n",
    "    \n",
    "    def is_empty(self):\n",
    "        return self.items == []\n",
    "\n",
    "\n",
    "strings = [\"to\", \"be\", \"or\", \"not\", \"to\", \"-\", \"be\", \"-\", \"-\", \"that\", \"-\", \"-\", \"-\", \"is\"]\n",
    "stack = Stack()\n",
    "for s in strings:\n",
    "    if s != \"-\":\n",
    "        stack.push(s)\n",
    "    else:\n",
    "        if not stack.is_empty():\n",
    "            print(stack.pop()) "
   ]
  },
  {
   "cell_type": "code",
   "execution_count": 8,
   "metadata": {},
   "outputs": [
    {
     "name": "stdout",
     "output_type": "stream",
     "text": [
      "Max value is:  10\n",
      "Max value is:  10\n",
      "Max value is:  12\n",
      "Max value is:  14\n"
     ]
    }
   ],
   "source": [
    "class Stack:\n",
    "    def __init__(self):\n",
    "        self.items = []\n",
    "        self.max_stack = []\n",
    "        \n",
    "    def push(self, item):\n",
    "        self.items.append(item)\n",
    "        if len(self.max_stack) == 0 or item >= self.max_stack[-1]:\n",
    "            self.max_stack.append(item)\n",
    "        \n",
    "    def get_max(self):\n",
    "        data = self.items.pop()\n",
    "        if data == self.max_stack[-1]:\n",
    "            self.max_stack.pop()\n",
    "            \n",
    "        return self.max_stack[-1]\n",
    "    \n",
    "    def is_empty(self):\n",
    "        return self.items == []\n",
    "\n",
    "\n",
    "numbers = [10, 4, 9, 13, \"-\", 5, 6, 7, \"-\", 12, 15, \"-\", 4, 10, 14, 3, 2, \"-\", 1]\n",
    "stack = Stack()\n",
    "for n in numbers:\n",
    "    if n != \"-\":\n",
    "        stack.push(n)\n",
    "    else:\n",
    "        if not stack.is_empty():\n",
    "            print(\"Max value is: \", stack.get_max()) "
   ]
  },
  {
   "cell_type": "code",
   "execution_count": 2,
   "metadata": {},
   "outputs": [
    {
     "name": "stdout",
     "output_type": "stream",
     "text": [
      "to\n",
      "be\n",
      "not\n",
      "that\n",
      "or\n",
      "be\n"
     ]
    }
   ],
   "source": [
    "class Node:\n",
    "    def __init__(self, data):\n",
    "        self.data = data\n",
    "        self.next = None\n",
    "        \n",
    "        \n",
    "class StackLinkedList:\n",
    "    def __init__(self):\n",
    "        self.head = None\n",
    "        \n",
    "    def push(self, data):\n",
    "        node = Node(data)\n",
    "        node.next = self.head\n",
    "        self.head = node\n",
    "        \n",
    "    def pop(self):\n",
    "        data = self.head.data\n",
    "        self.head = self.head.next\n",
    "        return data\n",
    "        \n",
    "    def is_empty(self):\n",
    "        return self.head == None\n",
    "        \n",
    "        \n",
    "strings = [\"to\", \"be\", \"or\", \"not\", \"to\", \"-\", \"be\", \"-\", \"-\", \"that\", \"-\", \"-\", \"-\", \"is\"]\n",
    "stack = StackLinkedList()\n",
    "for s in strings:\n",
    "    if s != \"-\":\n",
    "        stack.push(s)\n",
    "    else:\n",
    "        if not stack.is_empty():\n",
    "            print(stack.pop())"
   ]
  },
  {
   "cell_type": "code",
   "execution_count": 3,
   "metadata": {},
   "outputs": [
    {
     "name": "stdout",
     "output_type": "stream",
     "text": [
      "to\n",
      "be\n",
      "or\n",
      "not\n",
      "to\n",
      "be\n"
     ]
    }
   ],
   "source": [
    "class Queue:\n",
    "    def __init__(self):\n",
    "        self.items = []\n",
    "        \n",
    "    def enqueue(self, item):\n",
    "        self.items.append(item)\n",
    "        \n",
    "    def dequeue(self):\n",
    "        return self.items.pop(0)\n",
    "    \n",
    "    def is_empty(self):\n",
    "        return self.items == []\n",
    "\n",
    "\n",
    "strings = [\"to\", \"be\", \"or\", \"not\", \"to\", \"-\", \"be\", \"-\", \"-\", \"that\", \"-\", \"-\", \"-\", \"is\"]\n",
    "queue = Queue()\n",
    "for s in strings:\n",
    "    if s != \"-\":\n",
    "        queue.enqueue(s)\n",
    "    else:\n",
    "        if not queue.is_empty():\n",
    "            print(queue.dequeue()) "
   ]
  },
  {
   "cell_type": "code",
   "execution_count": 7,
   "metadata": {},
   "outputs": [
    {
     "name": "stdout",
     "output_type": "stream",
     "text": [
      "to\n",
      "be\n",
      "or\n",
      "not\n",
      "to\n",
      "be\n"
     ]
    }
   ],
   "source": [
    "class Node:\n",
    "    def __init__(self, data):\n",
    "        self.data = data\n",
    "        self.next = None\n",
    "        \n",
    "        \n",
    "class QueueLinkedList:\n",
    "    def __init__(self):\n",
    "        self.front = None\n",
    "        self.rear = None\n",
    "        \n",
    "    def enqueue(self, data):\n",
    "        node = Node(data)\n",
    "        if self.rear == None:\n",
    "            self.front = node\n",
    "            self.rear = node\n",
    "        else:\n",
    "            self.rear.next = node\n",
    "            self.rear = node\n",
    "        \n",
    "    def dequeue(self):\n",
    "        data = self.front.data\n",
    "        self.front = self.front.next\n",
    "        \n",
    "        if self.front == None:\n",
    "            self.rear = None\n",
    "            \n",
    "        return data\n",
    "        \n",
    "    def is_empty(self):\n",
    "        return self.front == None\n",
    "        \n",
    "        \n",
    "strings = [\"to\", \"be\", \"or\", \"not\", \"to\", \"-\", \"be\", \"-\", \"-\", \"that\", \"-\", \"-\", \"-\", \"is\"]\n",
    "queue = QueueLinkedList()\n",
    "for s in strings:\n",
    "    if s != \"-\":\n",
    "        queue.enqueue(s)\n",
    "    else:\n",
    "        if not queue.is_empty():\n",
    "            print(queue.dequeue())"
   ]
  },
  {
   "cell_type": "code",
   "execution_count": 43,
   "metadata": {},
   "outputs": [
    {
     "name": "stdout",
     "output_type": "stream",
     "text": [
      "1\n",
      "2\n",
      "3\n",
      "False\n",
      "[4] []\n"
     ]
    }
   ],
   "source": [
    "class QueueWithTwoStacks:\n",
    "    def __init__(self):\n",
    "        self.in_stack = []\n",
    "        self.out_stack = []\n",
    "    \n",
    "    def enqueue(self, value):\n",
    "        self.in_stack.append(value)\n",
    "    \n",
    "    def dequeue(self):\n",
    "        if not self.out_stack:\n",
    "            while self.in_stack:\n",
    "                self.out_stack.append(self.in_stack.pop())\n",
    "        \n",
    "        if self.out_stack:\n",
    "            return self.out_stack.pop()\n",
    "        else:\n",
    "            return None\n",
    "    \n",
    "    def is_empty(self):\n",
    "        return not self.in_stack and not self.out_stack\n",
    "\n",
    "\n",
    "queue = QueueWithTwoStacks()\n",
    "queue.enqueue(1)\n",
    "queue.enqueue(2)\n",
    "queue.enqueue(3)\n",
    "print(queue.dequeue())   \n",
    "print(queue.dequeue())  \n",
    "queue.enqueue(4) \n",
    "print(queue.dequeue())\n",
    "print(queue.is_empty())\n",
    "print(queue.in_stack, queue.out_stack)"
   ]
  },
  {
   "cell_type": "markdown",
   "metadata": {},
   "source": [
    "### Arithmetic Expression Evaluation\n",
    "Infix, Prefix, Postfix expressions"
   ]
  },
  {
   "cell_type": "code",
   "execution_count": 12,
   "metadata": {},
   "outputs": [
    {
     "data": {
      "text/plain": [
       "[22]"
      ]
     },
     "execution_count": 12,
     "metadata": {},
     "output_type": "execute_result"
    }
   ],
   "source": [
    "def evalRPN(tokens):\n",
    "    stack = []\n",
    "    for t in tokens:\n",
    "        if t in [\"+\", \"-\", \"*\", \"/\"]:\n",
    "            b = stack.pop()\n",
    "            a = stack.pop()\n",
    "        \n",
    "        if t == \"+\":\n",
    "            stack.append(a+b)\n",
    "        elif t == \"-\":\n",
    "            stack.append(a-b)\n",
    "        elif t == \"*\":\n",
    "            stack.append(a*b)\n",
    "        elif t == \"/\":\n",
    "            stack.append(int(a/b))\n",
    "        else:\n",
    "            stack.append(int(t))\n",
    "            \n",
    "    return stack\n",
    "\n",
    "\n",
    "tokens = [\"10\",\"6\",\"9\",\"3\",\"+\",\"-11\",\"*\",\"/\",\"*\",\"17\",\"+\",\"5\",\"+\"]\n",
    "evalRPN(tokens)"
   ]
  },
  {
   "cell_type": "markdown",
   "metadata": {},
   "source": [
    "### Password Reset\n",
    "Use the minimum number of operations (replace chars) to make the permutation as palindrome and if multiple permutations are possible then return the one with alphabetically lowest."
   ]
  },
  {
   "cell_type": "code",
   "execution_count": 45,
   "metadata": {},
   "outputs": [
    {
     "name": "stdout",
     "output_type": "stream",
     "text": [
      "bcdcb\n"
     ]
    }
   ],
   "source": [
    "def make_palindrome(s):\n",
    "    freq = {}\n",
    "    for i in s:\n",
    "        if i in freq:\n",
    "            freq[i] += 1\n",
    "        else:\n",
    "            freq[i] = 1\n",
    "            \n",
    "    odd_chars = [k for k,v in freq.items() if v%2 != 0]\n",
    "\n",
    "    if len(odd_chars) > 1:\n",
    "        odd_chars.sort()\n",
    "        \n",
    "    for c in range(len(odd_chars)//2):\n",
    "        freq[odd_chars[c]] += 1\n",
    "        freq[odd_chars[-c-1]] -= 1\n",
    "        \n",
    "    first_s = []\n",
    "    middle_char = ''\n",
    "\n",
    "    for char in sorted(freq.keys()):\n",
    "        if (freq[char] % 2) == 0:\n",
    "            first_s.extend(char * (freq[char]//2))\n",
    "        else:\n",
    "            middle_char = char\n",
    "\n",
    "    second_s = first_s[::-1]\n",
    "    final_s = ''.join(first_s) + middle_char + ''.join(second_s)\n",
    "\n",
    "    return final_s\n",
    "\n",
    "s = \"bbcde\"\n",
    "result = make_palindrome(s)\n",
    "print(result)"
   ]
  },
  {
   "cell_type": "code",
   "execution_count": 39,
   "metadata": {},
   "outputs": [
    {
     "data": {
      "text/plain": [
       "6"
      ]
     },
     "execution_count": 39,
     "metadata": {},
     "output_type": "execute_result"
    }
   ],
   "source": [
    "def solution(n):\n",
    "    n = str(n)\n",
    "    res = list(map(int, n))\n",
    "    res = sum(res)\n",
    "    \n",
    "    return res\n",
    "\n",
    "solution(123)"
   ]
  },
  {
   "cell_type": "code",
   "execution_count": 46,
   "metadata": {},
   "outputs": [
    {
     "name": "stdout",
     "output_type": "stream",
     "text": [
      "True\n",
      "False\n"
     ]
    }
   ],
   "source": [
    "def are_they_equal(array_a, array_b):\n",
    "    dict_a = {}\n",
    "    dict_b = {}\n",
    "\n",
    "    if len(array_a) != len(array_b):\n",
    "        return False\n",
    "\n",
    "    for i in range(len(array_a)):\n",
    "        if array_a[i] in dict_a:\n",
    "            dict_a[array_a[i]] += 1\n",
    "        else:\n",
    "            dict_a[array_a[i]] = 1\n",
    "        \n",
    "        if array_b[i] in dict_b:\n",
    "            dict_b[array_b[i]] += 1\n",
    "        else:\n",
    "            dict_b[array_b[i]] = 1 \n",
    "\n",
    "    if dict_a == dict_b:\n",
    "        return True\n",
    "    else:\n",
    "        return False\n",
    "\n",
    "\n",
    "n_1 = 4\n",
    "a_1 = [1, 2, 3, 4]\n",
    "b_1 = [1, 4, 3, 2]\n",
    "output_1 = are_they_equal(a_1, b_1)\n",
    "print(output_1)\n",
    "\n",
    "n_2 = 4\n",
    "a_2 = [1, 2, 3, 4]\n",
    "b_2 = [1, 2, 3, 5]  \n",
    "output_2 = are_they_equal(a_2, b_2)\n",
    "print(output_2)"
   ]
  },
  {
   "cell_type": "code",
   "execution_count": 51,
   "metadata": {},
   "outputs": [
    {
     "data": {
      "text/plain": [
       "6"
      ]
     },
     "execution_count": 51,
     "metadata": {},
     "output_type": "execute_result"
    }
   ],
   "source": [
    "def maxSubArray(nums):\n",
    "    max_sum = nums[0]\n",
    "    current_sum = nums[0]\n",
    "    for i in range(1, len(nums)):\n",
    "        if current_sum < 0:\n",
    "            current_sum = 0\n",
    "        \n",
    "        current_sum += nums[i]\n",
    "        max_sum = max(current_sum, max_sum)\n",
    "\n",
    "    return max_sum\n",
    "\n",
    "\n",
    "maxSubArray([-2,1,-3,4,-1,2,1,-5,4])"
   ]
  },
  {
   "cell_type": "code",
   "execution_count": 5,
   "metadata": {},
   "outputs": [
    {
     "name": "stdout",
     "output_type": "stream",
     "text": [
      "[1, 3, 1, 5, 1]\n",
      "[1, 2, 6, 1, 3, 1]\n"
     ]
    }
   ],
   "source": [
    "def count_subarrays(arr):\n",
    "    n = len(arr)\n",
    "    result = [0]*n\n",
    "\n",
    "    for i in range(n):\n",
    "        left = 0\n",
    "        right = n-1\n",
    "        start = left\n",
    "        end = right\n",
    "\n",
    "        while left <= i and right >= i:\n",
    "            if arr[left] > arr[i]:\n",
    "                start = left+1\n",
    "            \n",
    "            if arr[right] > arr[i]:\n",
    "                end = right-1\n",
    "            \n",
    "            left += 1\n",
    "            right -= 1\n",
    "            \n",
    "        if left < i:\n",
    "            while left < i:\n",
    "                if arr[left] > arr[i]:\n",
    "                    start = left+1\n",
    "                left += 1\n",
    "        else:\n",
    "            while right > i:\n",
    "                if arr[right] > arr[i]:\n",
    "                    end = right-1\n",
    "                right -= 1\n",
    "        \n",
    "        result[i] = end-start+1\n",
    "\n",
    "    return result\n",
    "\n",
    "\n",
    "test_1 = [3, 4, 1, 6, 2]\n",
    "expected_1 = [1, 3, 1, 5, 1]\n",
    "output_1 = count_subarrays(test_1)\n",
    "print(output_1)\n",
    "\n",
    "test_2 = [2, 4, 7, 1, 5, 3]\n",
    "expected_2 = [1, 2, 6, 1, 3, 1]\n",
    "output_2 = count_subarrays(test_2)\n",
    "print(output_2)"
   ]
  },
  {
   "cell_type": "code",
   "execution_count": 1,
   "metadata": {},
   "outputs": [
    {
     "name": "stdout",
     "output_type": "stream",
     "text": [
      "[1, 3, 1, 5, 1]\n",
      "[1, 2, 6, 1, 3, 1]\n"
     ]
    }
   ],
   "source": [
    "def count_subarrays(arr):\n",
    "    n = len(arr)\n",
    "    left = [1]*n\n",
    "    right  = [1]*n\n",
    "    \n",
    "    stack = []\n",
    "    for i in range(n):\n",
    "        while stack and arr[stack[-1]] < arr[i]:\n",
    "            stack.pop()\n",
    "            \n",
    "        if stack:\n",
    "            left[i] = i-stack[-1]\n",
    "        else:\n",
    "            left[i] = i+1\n",
    "            \n",
    "        stack.append(i)\n",
    "        \n",
    "    stack = []\n",
    "    for i in range(n-1, -1, -1):\n",
    "        while stack and arr[stack[-1]] < arr[i]:\n",
    "            stack.pop()\n",
    "            \n",
    "        if stack:\n",
    "            right[i] = stack[-1]-i\n",
    "        else:\n",
    "            right[i] = n-i\n",
    "            \n",
    "        stack.append(i)\n",
    "    \n",
    "    result = [left[i]+right[i]-1 for i in range(n)]\n",
    "    \n",
    "    return result\n",
    "\n",
    "\n",
    "test_1 = [3, 4, 1, 6, 2]\n",
    "expected_1 = [1, 3, 1, 5, 1]\n",
    "output_1 = count_subarrays(test_1)\n",
    "print(output_1)\n",
    "\n",
    "test_2 = [2, 4, 7, 1, 5, 3]\n",
    "expected_2 = [1, 2, 6, 1, 3, 1]\n",
    "output_2 = count_subarrays(test_2)\n",
    "print(output_2)"
   ]
  },
  {
   "cell_type": "code",
   "execution_count": 4,
   "metadata": {},
   "outputs": [
    {
     "name": "stdout",
     "output_type": "stream",
     "text": [
      "[2, 2]\n",
      "[1, 1]\n"
     ]
    }
   ],
   "source": [
    "def findSignatureCounts(arr):\n",
    "    n = len(arr)\n",
    "    signatures = [0] * n  \n",
    "    visited = [False] * n  \n",
    "\n",
    "    for i in range(n):\n",
    "        if not visited[i]:\n",
    "            cycle = []\n",
    "            current = i\n",
    "            \n",
    "            while not visited[current]:\n",
    "                cycle.append(current)\n",
    "                visited[current] = True\n",
    "                current = arr[current] - 1  \n",
    "            \n",
    "            cycle_length = len(cycle)\n",
    "            for student in cycle:\n",
    "                signatures[student] = cycle_length\n",
    "\n",
    "    return signatures\n",
    "\n",
    "\n",
    "arr_1 = [2, 1]\n",
    "expected_1 = [2, 2]\n",
    "output_1 = findSignatureCounts(arr_1)\n",
    "print(output_1)\n",
    "\n",
    "arr_2 = [1, 2]\n",
    "expected_2 = [1, 1]\n",
    "output_2 = findSignatureCounts(arr_2)\n",
    "print(output_2)"
   ]
  },
  {
   "cell_type": "code",
   "execution_count": 37,
   "metadata": {},
   "outputs": [
    {
     "name": "stdout",
     "output_type": "stream",
     "text": [
      "Epp-gsrzsCw-3-fi:Epivx5.\n",
      "stuvRPQrpq-999.@\n"
     ]
    }
   ],
   "source": [
    "import string\n",
    "\n",
    "def rotationalCipher(input_str, rotation_factor):\n",
    "    rotational = []\n",
    "    lower_alpha = string.ascii_lowercase\n",
    "    upper_alpha = string.ascii_uppercase\n",
    "\n",
    "    for i in input_str:\n",
    "        if i.isdigit():\n",
    "            new = int(i)+rotation_factor\n",
    "            if new > 9:\n",
    "                new = new%10\n",
    "            new = str(new)\n",
    "            \n",
    "        elif i.isalpha() and i.islower():\n",
    "            index = lower_alpha.index(i)\n",
    "            index = index+rotation_factor\n",
    "            if index > 25:\n",
    "                index = index%26\n",
    "            \n",
    "            new = lower_alpha[index]\n",
    "            \n",
    "        elif i.isalpha() and i.isupper():\n",
    "            index = upper_alpha.index(i)\n",
    "            index = index+rotation_factor\n",
    "            if index > 25:\n",
    "                index = index%26\n",
    "            \n",
    "            new = upper_alpha[index]\n",
    "        else:\n",
    "            new = i\n",
    "            \n",
    "        rotational.append(new)\n",
    "        \n",
    "    rotational = \"\".join(rotational) \n",
    "        \n",
    "    return rotational\n",
    "\n",
    "\n",
    "input_1 = \"All-convoYs-9-be:Alert1.\"\n",
    "rotation_factor_1 = 4\n",
    "expected_1 = \"Epp-gsrzsCw-3-fi:Epivx5.\"\n",
    "output_1 = rotationalCipher(input_1, rotation_factor_1)\n",
    "print(output_1)\n",
    "\n",
    "input_2 = \"abcdZXYzxy-999.@\"\n",
    "rotation_factor_2 = 200\n",
    "expected_2 = \"stuvRPQrpq-999.@\"\n",
    "output_2 = rotationalCipher(input_2, rotation_factor_2)\n",
    "print(output_2)"
   ]
  },
  {
   "cell_type": "code",
   "execution_count": 42,
   "metadata": {},
   "outputs": [
    {
     "name": "stdout",
     "output_type": "stream",
     "text": [
      "5\n",
      "2\n"
     ]
    }
   ],
   "source": [
    "def matching_pairs(s, t):\n",
    "    unmatched = []\n",
    "    count = 0\n",
    "\n",
    "    for i in range(len(s)):\n",
    "        if s[i] == t[i]:\n",
    "            count += 1\n",
    "        else:\n",
    "            unmatched.append(i)\n",
    "\n",
    "    half_swap = False\n",
    "\n",
    "    if len(unmatched) == 0:\n",
    "        count -= 2\n",
    "    elif len(unmatched) == 1:\n",
    "        count -= 1\n",
    "    else:\n",
    "        sub_s = [s[i] for i in unmatched]\n",
    "        sub_t = [t[i] for i in unmatched]\n",
    "        for u in unmatched:\n",
    "            if t[u] in sub_s:\n",
    "                if half_swap:\n",
    "                    count -= 1\n",
    "                \n",
    "                index = sub_s.index(t[u])\n",
    "                count += 1\n",
    "                half_swap = True\n",
    "                \n",
    "                if t[index] in sub_t:\n",
    "                    count += 1\n",
    "                    break\n",
    "            \n",
    "    return count\n",
    "\n",
    "\n",
    "s_1, t_1 = \"abcde\", \"adcbe\"\n",
    "expected_1 = 5\n",
    "output_1 = matching_pairs(s_1, t_1)\n",
    "print(output_1)\n",
    "\n",
    "s_2, t_2 = \"abcd\", \"abcd\"\n",
    "expected_2 = 2\n",
    "output_2 = matching_pairs(s_2, t_2)\n",
    "print(output_2)\n"
   ]
  },
  {
   "cell_type": "code",
   "execution_count": 1,
   "metadata": {},
   "outputs": [
    {
     "name": "stdout",
     "output_type": "stream",
     "text": [
      "         x1        x2        x3         y\n",
      "0  0.496714 -1.415371  0.333807  5.325754\n",
      "1 -0.138264 -0.420645 -0.026880  0.664997\n",
      "2  0.647689 -0.342715  0.496918  3.442545\n",
      "3  1.523030 -0.802277  1.019198  7.286874\n",
      "4 -0.234153 -0.161286 -0.278259 -0.412289\n"
     ]
    }
   ],
   "source": [
    "import numpy as np\n",
    "import pandas as pd\n",
    "from sklearn.linear_model import LinearRegression\n",
    "\n",
    "np.random.seed(42)\n",
    "\n",
    "x1 = np.random.randn(100)\n",
    "x2 = np.random.randn(100)\n",
    "x3 = 0.6 * x1 + np.random.randn(100) * 0.1 \n",
    "y = 2 * x1 - 3 * x2 + 1.5 * x3 + np.random.randn(100) * 0.5\n",
    "\n",
    "data = pd.DataFrame({\n",
    "    'x1': x1,\n",
    "    'x2': x2,\n",
    "    'x3': x3,\n",
    "    'y': y\n",
    "})\n",
    "\n",
    "print(data.head())\n",
    "X = data[['x1', 'x2', 'x3']]\n",
    "y = data['y']\n",
    "\n",
    "model = LinearRegression()\n",
    "model.fit(X, y)\n",
    "y_pred = model.predict(X)\n",
    "\n",
    "model1 = LinearRegression()\n",
    "model1.fit(X[['x1', 'x2']], y)\n",
    "y_pred1 = model1.predict(X[['x1', 'x2']])\n"
   ]
  },
  {
   "cell_type": "code",
   "execution_count": 2,
   "metadata": {},
   "outputs": [
    {
     "data": {
      "image/png": "[encoded data removed]",
      "text/plain": [
       "<Figure size 1500x500 with 3 Axes>"
      ]
     },
     "metadata": {},
     "output_type": "display_data"
    }
   ],
   "source": [
    "import matplotlib.pyplot as plt\n",
    "\n",
    "fig, axes = plt.subplots(1, 3, figsize=(15, 5))\n",
    "\n",
    "axes[0].scatter(x1, y, color='blue', alpha=0.7)\n",
    "axes[0].set_title('x1 vs y')\n",
    "axes[0].set_xlabel('x1')\n",
    "axes[0].set_ylabel('y')\n",
    "\n",
    "axes[1].scatter(x2, y, color='green', alpha=0.7)\n",
    "axes[1].set_title('x2 vs y')\n",
    "axes[1].set_xlabel('x2')\n",
    "axes[1].set_ylabel('y')\n",
    "\n",
    "axes[2].scatter(x3, y, color='red', alpha=0.7)\n",
    "axes[2].set_title('x3 vs y')\n",
    "axes[2].set_xlabel('x3')\n",
    "axes[2].set_ylabel('y')\n",
    "\n",
    "plt.tight_layout()\n",
    "plt.show()"
   ]
  },
  {
   "cell_type": "code",
   "execution_count": 3,
   "metadata": {},
   "outputs": [
    {
     "data": {
      "image/png": "[encoded data removed]",
      "text/plain": [
       "<Figure size 640x480 with 1 Axes>"
      ]
     },
     "metadata": {},
     "output_type": "display_data"
    }
   ],
   "source": [
    "import numpy as np\n",
    "import matplotlib.pyplot as plt\n",
    "from scipy.stats import norm\n",
    "\n",
    "mu_y, std_y = norm.fit(y_pred)\n",
    "mu_y1, std_y1 = norm.fit(y_pred1)\n",
    "\n",
    "xmin = min(min(y_pred), min(y_pred1))\n",
    "xmax = max(max(y_pred), max(y_pred1))\n",
    "x = np.linspace(xmin, xmax, 100)\n",
    "\n",
    "p_y = norm.pdf(x, mu_y, std_y)\n",
    "plt.plot(x, p_y, 'b-', label=f'y (Actual), $\\mu$={mu_y:.2f}, $\\sigma$={std_y:.2f}')\n",
    "\n",
    "p_pred = norm.pdf(x, mu_y1, std_y1)\n",
    "plt.plot(x, p_pred, 'r-', label=f'y_pred (Predicted), $\\mu$={mu_y1:.2f}, $\\sigma$={std_y1:.2f}')\n",
    "\n",
    "plt.title('Normal Distribution of Actual vs Predicted')\n",
    "plt.xlabel('Value')\n",
    "plt.ylabel('Density')\n",
    "\n",
    "plt.legend()\n",
    "plt.show()"
   ]
  },
  {
   "cell_type": "code",
   "execution_count": 8,
   "metadata": {},
   "outputs": [
    {
     "name": "stdout",
     "output_type": "stream",
     "text": [
      "5\n",
      "-1\n",
      "4\n"
     ]
    }
   ],
   "source": [
    "def min_length_substring(s, t):\n",
    "    n = len(s)\n",
    "    res = n+1\n",
    "    \n",
    "    sw = {}\n",
    "    tw = {}\n",
    "    \n",
    "    for i in t:\n",
    "        sw[i] = 0\n",
    "        if i in tw:\n",
    "            tw[i] += 1\n",
    "        else:\n",
    "            tw[i] = 1\n",
    "        \n",
    "    have = 0\n",
    "    need = len(tw)\n",
    "\n",
    "    start = 0\n",
    "    end = 0\n",
    "    \n",
    "    for end in range(n):\n",
    "        if s[end] in sw:\n",
    "            sw[s[end]] += 1\n",
    "            if sw[s[end]] == tw[s[end]]:\n",
    "                have += 1\n",
    "            \n",
    "        while have == need:\n",
    "            res = min(res, end-start+1)\n",
    "            if s[start] in sw:\n",
    "                sw[s[start]] -= 1\n",
    "                if sw[s[start]] < tw[s[start]]:\n",
    "                    have -= 1\n",
    "            start += 1\n",
    "\n",
    "    if res == n+1:\n",
    "        return -1\n",
    "    else:\n",
    "        return res\n",
    "\n",
    "\n",
    "s1 = \"dcbefebce\"\n",
    "t1 = \"fd\"\n",
    "expected_1 = 5\n",
    "output_1 = min_length_substring(s1, t1)\n",
    "print(output_1)\n",
    "\n",
    "s2 = \"bfbeadbcbcbfeaaeefcddcccbbbfaaafdbebedddf\"\n",
    "t2 = \"cbccfafebccdccebdd\"\n",
    "expected_2 = -1\n",
    "output_2 = min_length_substring(s2, t2)\n",
    "print(output_2)\n",
    "\n",
    "s3 = \"ADOBECODEBANC\"\n",
    "t3 = \"ABC\"\n",
    "expected_3 = 4\n",
    "output_3 = min_length_substring(s3, t3)\n",
    "print(output_3)"
   ]
  },
  {
   "cell_type": "code",
   "execution_count": 14,
   "metadata": {},
   "outputs": [
    {
     "name": "stdout",
     "output_type": "stream",
     "text": [
      "BANC\n"
     ]
    }
   ],
   "source": [
    "def minWindow(s, t) -> str:\n",
    "    n = len(s)\n",
    "    min_index = 0\n",
    "    max_index = 0\n",
    "    res = n+1\n",
    "\n",
    "    sw = {}\n",
    "    tw = {}\n",
    "    \n",
    "    for i in t:\n",
    "        sw[i] = 0\n",
    "        if i in tw:\n",
    "            tw[i] += 1\n",
    "        else:\n",
    "            tw[i] = 1\n",
    "        \n",
    "    have = 0\n",
    "    need = len(tw)\n",
    "\n",
    "    start = 0\n",
    "    end = 0\n",
    "    \n",
    "    for end in range(n):\n",
    "        if s[end] in sw:\n",
    "            sw[s[end]] += 1\n",
    "            if sw[s[end]] == tw[s[end]]:\n",
    "                have += 1\n",
    "            \n",
    "        while have == need:\n",
    "            if res >= end-start+1:\n",
    "                res = end-start+1\n",
    "                min_index = start\n",
    "                max_index = end+1\n",
    "            \n",
    "            if s[start] in sw:\n",
    "                sw[s[start]] -= 1\n",
    "                if sw[s[start]] < tw[s[start]]:\n",
    "                    have -= 1\n",
    "            start += 1\n",
    "\n",
    "    return s[min_index:max_index]\n",
    "\n",
    "\n",
    "s3 = \"ADOBECODEBANC\"\n",
    "t3 = \"ABC\"\n",
    "output_3 = minWindow(s3, t3)\n",
    "print(output_3)"
   ]
  },
  {
   "cell_type": "code",
   "execution_count": 18,
   "metadata": {},
   "outputs": [
    {
     "name": "stdout",
     "output_type": "stream",
     "text": [
      "2\n",
      "4\n"
     ]
    }
   ],
   "source": [
    "def numberOfWays(arr, k):\n",
    "    nums = {}\n",
    "    pairs = 0\n",
    "    \n",
    "    for i in arr:\n",
    "        if i in nums:\n",
    "            nums[i] += 1\n",
    "        else:\n",
    "            nums[i] = 1\n",
    "\n",
    "    for key in nums:\n",
    "        if k-key in nums:\n",
    "            if k-key == key:\n",
    "                val = nums[key]\n",
    "                pairs += val*(val-1)/2\n",
    "            else:\n",
    "                pairs += nums[key]*nums[k-key]/2\n",
    "\n",
    "    return int(pairs)\n",
    "\n",
    "\n",
    "k_1 = 6\n",
    "arr_1 = [1, 2, 3, 4, 3]\n",
    "expected_1 = 2\n",
    "output_1 = numberOfWays(arr_1, k_1)\n",
    "print(output_1)\n",
    "\n",
    "k_2 = 6\n",
    "arr_2 = [1, 5, 3, 3, 3]\n",
    "expected_2 = 4\n",
    "output_2 = numberOfWays(arr_2, k_2)\n",
    "print(output_2)"
   ]
  },
  {
   "cell_type": "code",
   "execution_count": 21,
   "metadata": {},
   "outputs": [
    {
     "name": "stdout",
     "output_type": "stream",
     "text": [
      "[2, 4, 4, 5]\n",
      "[5, 4, 2, 3, 2]\n"
     ]
    }
   ],
   "source": [
    "def bin_search(arr, target):\n",
    "    left = 0\n",
    "    right = len(arr) - 1\n",
    "    while left <= right:\n",
    "        mid = (left + right) // 2\n",
    "        if arr[mid] == target:\n",
    "            return mid\n",
    "        elif arr[mid] < target:\n",
    "            left = mid + 1\n",
    "        else:\n",
    "            right = mid - 1\n",
    "    \n",
    "    if left >= len(arr):\n",
    "        return -2\n",
    "    else:\n",
    "        return left\n",
    "\n",
    "\n",
    "def getMilestoneDays(revenues, milestones):\n",
    "    for i in range(1, len(revenues)):\n",
    "        revenues[i] += revenues[i-1]\n",
    "        \n",
    "    return [1 + bin_search(revenues, m) for m in milestones]\n",
    "\n",
    "\n",
    "revenues_1 = [100, 200, 300, 400, 500]\n",
    "milestones_1 = [300, 800, 1000, 1400]\n",
    "expected_1 = [2, 4, 4, 5]\n",
    "output_1 = getMilestoneDays(revenues_1, milestones_1)\n",
    "print(output_1)\n",
    "\n",
    "revenues_2 = [700, 800, 600, 400, 600, 700]\n",
    "milestones_2 = [3100, 2200, 800, 2100, 1000] \n",
    "expected_2 = [5, 4, 2, 3, 2]\n",
    "output_2 = getMilestoneDays(revenues_2, milestones_2)\n",
    "print(output_2)\n",
    "\n",
    "\n",
    "# Time Complexity - O(n + klogn)\n",
    "# Space Complexity - O(k)"
   ]
  },
  {
   "cell_type": "code",
   "execution_count": 22,
   "metadata": {},
   "outputs": [
    {
     "name": "stdout",
     "output_type": "stream",
     "text": [
      "aa\n",
      "ps\n"
     ]
    }
   ],
   "source": [
    "def remove_adjacent_k_duplicates(s, k):\n",
    "    stack = []\n",
    "    \n",
    "    for char in s:\n",
    "        if stack:\n",
    "            if stack[-1][0] == char:\n",
    "                count = stack[-1][1]\n",
    "                if count == k-1:\n",
    "                    for i in range(k-1):\n",
    "                        stack.pop()\n",
    "                else:\n",
    "                    stack.append((char, count+1)) \n",
    "            else:\n",
    "                stack.append((char, 1)) \n",
    "        else:\n",
    "            stack.append((char, 1))\n",
    "            \n",
    "    rem_chars = [char for char, _ in stack]\n",
    "    \n",
    "    return \"\".join(rem_chars)\n",
    "\n",
    "\n",
    "s1 = \"deeedbbcccbdaa\"\n",
    "k1 = 3\n",
    "expected_1 = \"aa\"\n",
    "output_1 = remove_adjacent_k_duplicates(s1, k1)\n",
    "print(output_1)\n",
    "\n",
    "s2 = \"pbbcggttciiippooaais\"\n",
    "k2 = 2\n",
    "expected_2 = \"ps\"\n",
    "output_2 = remove_adjacent_k_duplicates(s2, k2)\n",
    "print(output_2)"
   ]
  },
  {
   "cell_type": "markdown",
   "metadata": {},
   "source": [
    "### Bubble Sort"
   ]
  },
  {
   "cell_type": "code",
   "execution_count": 204,
   "metadata": {},
   "outputs": [
    {
     "name": "stdout",
     "output_type": "stream",
     "text": [
      "[1, 2, 3, 4, 5, 6, 7, 8, 9]\n",
      "[1, 11, 15, 23, 34, 67, 77, 77, 88, 99]\n"
     ]
    }
   ],
   "source": [
    "def bubble_sort(arr):\n",
    "    n = len(arr)\n",
    "    for i in range(n-1):\n",
    "        swap = False\n",
    "        for j in range(0, n-i-1):\n",
    "            if arr[j] > arr[j+1]:\n",
    "                arr[j], arr[j+1] = arr[j+1], arr[j]\n",
    "                swap = True\n",
    "                \n",
    "        if not swap:\n",
    "            break\n",
    "                \n",
    "    return arr\n",
    "\n",
    "\n",
    "elements_1 = [3, 4, 1, 9, 7, 2, 5, 8, 6]\n",
    "expected_1 = [1, 2, 3, 4, 5, 6, 7, 8, 9]\n",
    "output_1 = bubble_sort(elements_1)\n",
    "print(output_1)\n",
    "\n",
    "elements_2 = [11, 99, 15, 77, 88, 23, 77, 67, 1, 34]\n",
    "expected_2 = [1, 11, 15, 23, 34, 67, 77, 77, 88, 99]\n",
    "output_2 = bubble_sort(elements_2)\n",
    "print(output_2)"
   ]
  },
  {
   "cell_type": "code",
   "execution_count": 205,
   "metadata": {},
   "outputs": [
    {
     "name": "stdout",
     "output_type": "stream",
     "text": [
      "[9, 8, 7, 6, 5, 4, 3, 2, 1]\n",
      "[99, 88, 77, 77, 67, 34, 23, 15, 11, 1]\n"
     ]
    }
   ],
   "source": [
    "def bubble_sort(arr):\n",
    "    n = len(arr)\n",
    "    for i in range(n-1):\n",
    "        swap = False\n",
    "        for j in range(0, n-i-1):\n",
    "            if arr[j] < arr[j+1]:\n",
    "                arr[j], arr[j+1] = arr[j+1], arr[j]\n",
    "                swap = True\n",
    "                \n",
    "        if not swap:\n",
    "            break\n",
    "                \n",
    "    return arr\n",
    "\n",
    "\n",
    "elements_1 = [3, 4, 1, 9, 7, 2, 5, 8, 6]\n",
    "expected_1 = [1, 2, 3, 4, 5, 6, 7, 8, 9]\n",
    "output_1 = bubble_sort(elements_1)\n",
    "print(output_1)\n",
    "\n",
    "elements_2 = [11, 99, 15, 77, 88, 23, 77, 67, 1, 34]\n",
    "expected_2 = [1, 11, 15, 23, 34, 67, 77, 77, 88, 99]\n",
    "output_2 = bubble_sort(elements_2)\n",
    "print(output_2)"
   ]
  },
  {
   "cell_type": "markdown",
   "metadata": {},
   "source": [
    "### Selection Sort"
   ]
  },
  {
   "cell_type": "code",
   "execution_count": null,
   "metadata": {},
   "outputs": [
    {
     "name": "stdout",
     "output_type": "stream",
     "text": [
      "[1, 2, 3, 4, 5, 6, 7, 8, 9]\n",
      "[1, 11, 15, 23, 34, 67, 77, 77, 88, 99]\n"
     ]
    }
   ],
   "source": [
    "def selection_sort(arr):\n",
    "    n = len(arr)\n",
    "    for i in range(n-1):\n",
    "        min = i\n",
    "        for j in range(i+1, n):\n",
    "            if arr[min] > arr[j]:\n",
    "                min = j\n",
    "        arr[i], arr[min] = arr[min], arr[i]\n",
    "    \n",
    "    return arr\n",
    "\n",
    "\n",
    "elements_1 = [3, 4, 1, 9, 7, 2, 5, 8, 6]\n",
    "expected_1 = [1, 2, 3, 4, 5, 6, 7, 8, 9]\n",
    "output_1 = selection_sort(elements_1)\n",
    "print(output_1)\n",
    "\n",
    "elements_2 = [11, 99, 15, 77, 88, 23, 77, 67, 1, 34]\n",
    "expected_2 = [1, 11, 15, 23, 34, 67, 77, 77, 88, 99]\n",
    "output_2 = selection_sort(elements_2)\n",
    "print(output_2)"
   ]
  },
  {
   "cell_type": "markdown",
   "metadata": {},
   "source": [
    "### Insertion Sort"
   ]
  },
  {
   "cell_type": "code",
   "execution_count": 11,
   "metadata": {},
   "outputs": [
    {
     "name": "stdout",
     "output_type": "stream",
     "text": [
      "13\n",
      "[1, 2, 3, 4, 5, 6, 7, 8, 9]\n",
      "25\n",
      "[1, 11, 15, 23, 34, 67, 77, 77, 88, 99]\n"
     ]
    }
   ],
   "source": [
    "def insertion_sort(arr):\n",
    "    n = len(arr)\n",
    "    swap = 0\n",
    "    for i in range(1, n):\n",
    "        j = i\n",
    "        while j > 0 and arr[j] < arr[j-1]:\n",
    "            arr[j], arr[j-1] = arr[j-1], arr[j]\n",
    "            swap += 1\n",
    "            j -= 1\n",
    "    \n",
    "    print(swap)\n",
    "    return arr\n",
    "\n",
    "\n",
    "elements_1 = [3, 4, 1, 9, 7, 2, 5, 8, 6]\n",
    "expected_1 = [1, 2, 3, 4, 5, 6, 7, 8, 9]\n",
    "output_1 = insertion_sort(elements_1)\n",
    "print(output_1)\n",
    "\n",
    "elements_2 = [11, 99, 15, 77, 88, 23, 77, 67, 1, 34]\n",
    "expected_2 = [1, 11, 15, 23, 34, 67, 77, 77, 88, 99]\n",
    "output_2 = insertion_sort(elements_2)\n",
    "print(output_2)"
   ]
  },
  {
   "cell_type": "markdown",
   "metadata": {},
   "source": [
    "### Shell Sort"
   ]
  },
  {
   "cell_type": "code",
   "execution_count": null,
   "metadata": {},
   "outputs": [
    {
     "name": "stdout",
     "output_type": "stream",
     "text": [
      "9\n",
      "[1, 2, 3, 4, 5, 6, 7, 8, 9]\n",
      "9\n",
      "[1, 11, 15, 23, 34, 67, 77, 77, 88, 99]\n"
     ]
    }
   ],
   "source": [
    "def shell_sort(arr):\n",
    "    n = len(arr)\n",
    "    gap = n//2\n",
    "    swap = 0\n",
    "    while gap > 0:\n",
    "        for i in range(gap, n):\n",
    "            j = i\n",
    "            while j >= gap and arr[j] < arr[j-gap]:\n",
    "                arr[j], arr[j-gap] = arr[j-gap], arr[j]\n",
    "                swap += 1\n",
    "                j -= gap\n",
    "                \n",
    "        gap //=2\n",
    "        \n",
    "    print(swap)\n",
    "    return arr\n",
    "\n",
    "\n",
    "elements_1 = [3, 4, 1, 9, 7, 2, 5, 8, 6]\n",
    "expected_1 = [1, 2, 3, 4, 5, 6, 7, 8, 9]\n",
    "output_1 = shell_sort(elements_1)\n",
    "print(output_1)\n",
    "\n",
    "elements_2 = [11, 99, 15, 77, 88, 23, 77, 67, 1, 34]\n",
    "expected_2 = [1, 11, 15, 23, 34, 67, 77, 77, 88, 99]\n",
    "output_2 = shell_sort(elements_2)\n",
    "print(output_2)"
   ]
  },
  {
   "cell_type": "markdown",
   "metadata": {},
   "source": [
    "### Merge Sort"
   ]
  },
  {
   "cell_type": "code",
   "execution_count": 39,
   "metadata": {},
   "outputs": [
    {
     "name": "stdout",
     "output_type": "stream",
     "text": [
      "[1, 2, 3, 4, 5, 6, 7, 8, 9]\n",
      "[1, 11, 15, 23, 34, 67, 77, 77, 88, 99]\n"
     ]
    }
   ],
   "source": [
    "def merge(arr, low, mid, high):\n",
    "    temp = []\n",
    "    left = low\n",
    "    right = mid+1\n",
    "    \n",
    "    while (left <= mid) and (right <= high):\n",
    "        if arr[left] <= arr[right]:\n",
    "            temp.append(arr[left])\n",
    "            left += 1\n",
    "        else:\n",
    "            temp.append(arr[right])\n",
    "            right += 1\n",
    "            \n",
    "    while left <= mid:\n",
    "        temp.append(arr[left])\n",
    "        left += 1\n",
    "    \n",
    "    while right <= high:\n",
    "        temp.append(arr[right])\n",
    "        right += 1\n",
    "        \n",
    "    for i in range(low, high+1):\n",
    "        arr[i] = temp[i-low]\n",
    "\n",
    "\n",
    "def merge_sort(arr, low, high):\n",
    "    if low>=high:\n",
    "        return \n",
    "    \n",
    "    mid = (low+high)//2\n",
    "    merge_sort(arr, low, mid)\n",
    "    merge_sort(arr, mid+1, high)\n",
    "    merge(arr, low, mid, high)\n",
    "    \n",
    "\n",
    "elements_1 = [3, 4, 1, 9, 7, 2, 5, 8, 6]\n",
    "elements_1_low = 0\n",
    "elements_1_high = len(elements_1)-1\n",
    "expected_1 = [1, 2, 3, 4, 5, 6, 7, 8, 9]\n",
    "merge_sort(elements_1, elements_1_low, elements_1_high)\n",
    "print(elements_1)\n",
    "\n",
    "elements_2 = [11, 99, 15, 77, 88, 23, 77, 67, 1, 34]\n",
    "elements_2_low = 0\n",
    "elements_2_high = len(elements_2)-1\n",
    "expected_2 = [1, 11, 15, 23, 34, 67, 77, 77, 88, 99]\n",
    "merge_sort(elements_2, elements_2_low, elements_2_high)\n",
    "print(elements_2)"
   ]
  },
  {
   "cell_type": "markdown",
   "metadata": {},
   "source": [
    "### Merge + Insertion Sort\n",
    "- Use insertion sort for small subarrays.\n",
    "- Mergesort has too much overhead for tiny subarrays.\n",
    "- Cutoff to insertion sort for ~ 7 items."
   ]
  },
  {
   "cell_type": "code",
   "execution_count": 55,
   "metadata": {},
   "outputs": [
    {
     "name": "stdout",
     "output_type": "stream",
     "text": [
      "[1, 2, 3, 4, 5, 6, 7, 8, 9]\n",
      "[1, 11, 15, 23, 34, 67, 77, 77, 88, 99]\n"
     ]
    }
   ],
   "source": [
    "CUTOFF = 7\n",
    "\n",
    "def insertion_sort(arr, low, high):\n",
    "    for i in range(low+1, high+1):\n",
    "        j = i\n",
    "        while j > low and arr[j] < arr[j-1]:\n",
    "            arr[j], arr[j-1] = arr[j-1], arr[j]\n",
    "            j -= 1\n",
    "\n",
    "\n",
    "def merge(arr, low, mid, high):\n",
    "    temp = []\n",
    "    left = low\n",
    "    right = mid+1\n",
    "    \n",
    "    while (left <= mid) and (right <= high):\n",
    "        if arr[left] <= arr[right]:\n",
    "            temp.append(arr[left])\n",
    "            left += 1\n",
    "        else:\n",
    "            temp.append(arr[right])\n",
    "            right += 1\n",
    "            \n",
    "    while left <= mid:\n",
    "        temp.append(arr[left])\n",
    "        left += 1\n",
    "    \n",
    "    while right <= high:\n",
    "        temp.append(arr[right])\n",
    "        right += 1\n",
    "        \n",
    "    for i in range(low, high+1):\n",
    "        arr[i] = temp[i-low]\n",
    "\n",
    "\n",
    "def merge_sort(arr, low, high):\n",
    "    if high-low < CUTOFF:\n",
    "        insertion_sort(arr, low, high)\n",
    "        return\n",
    "    \n",
    "    mid = (low+high)//2\n",
    "    merge_sort(arr, low, mid)\n",
    "    merge_sort(arr, mid+1, high)\n",
    "    if arr[mid] <= arr[mid+1]:\n",
    "        return\n",
    "    merge(arr, low, mid, high)\n",
    "    \n",
    "\n",
    "elements_1 = [3, 4, 1, 2, 5, 9, 7, 8, 6]\n",
    "elements_1_low = 0\n",
    "elements_1_high = len(elements_1)-1\n",
    "expected_1 = [1, 2, 3, 4, 5, 6, 7, 8, 9]\n",
    "merge_sort(elements_1, elements_1_low, elements_1_high)\n",
    "print(elements_1)\n",
    "\n",
    "elements_2 = [11, 99, 15, 77, 88, 23, 77, 67, 1, 34]\n",
    "elements_2_low = 0\n",
    "elements_2_high = len(elements_2)-1\n",
    "expected_2 = [1, 11, 15, 23, 34, 67, 77, 77, 88, 99]\n",
    "merge_sort(elements_2, elements_2_low, elements_2_high)\n",
    "print(elements_2)"
   ]
  },
  {
   "cell_type": "markdown",
   "metadata": {},
   "source": [
    "### Quick Sort"
   ]
  },
  {
   "cell_type": "code",
   "execution_count": null,
   "metadata": {},
   "outputs": [
    {
     "name": "stdout",
     "output_type": "stream",
     "text": [
      "[1, 2, 3, 4, 5, 6, 7, 8, 9]\n",
      "[5, 5, 5, 5, 5]\n"
     ]
    }
   ],
   "source": [
    "def partition(arr, low, high):\n",
    "    pivot = arr[low]\n",
    "    i = low\n",
    "    j = high\n",
    "\n",
    "    while i < j:\n",
    "        while arr[i] <= pivot and i < high:\n",
    "            i += 1\n",
    "        \n",
    "        while arr[j] > pivot and j > low:\n",
    "            j -= 1\n",
    "            \n",
    "        if i < j:\n",
    "            arr[i], arr[j] = arr[j], arr[i]\n",
    "            \n",
    "    arr[low], arr[j] = arr[j], arr[low]\n",
    "    \n",
    "    return j\n",
    "        \n",
    "\n",
    "def quick_sort(arr, low, high):\n",
    "    if high <= low:\n",
    "        return\n",
    "    \n",
    "    p = partition(arr, low, high)\n",
    "    quick_sort(arr, low, p-1)\n",
    "    quick_sort(arr, p+1, high)\n",
    "    \n",
    "\n",
    "elements_1 = [3, 4, 1, 9, 7, 2, 5, 8, 6]\n",
    "elements_1_low = 0\n",
    "elements_1_high = len(elements_1)-1\n",
    "expected_1 = [1, 2, 3, 4, 5, 6, 7, 8, 9]\n",
    "quick_sort(elements_1, elements_1_low, elements_1_high)\n",
    "print(elements_1)\n",
    "\n",
    "elements_2 = [5, 5, 5, 5, 5]\n",
    "elements_2_low = 0\n",
    "elements_2_high = len(elements_2)-1\n",
    "expected_2 = [5, 5, 5, 5, 5]\n",
    "quick_sort(elements_2, elements_2_low, elements_2_high)\n",
    "print(elements_2)"
   ]
  },
  {
   "cell_type": "code",
   "execution_count": 2,
   "metadata": {},
   "outputs": [
    {
     "name": "stdout",
     "output_type": "stream",
     "text": [
      "2\n",
      "7\n"
     ]
    }
   ],
   "source": [
    "def findMeetingRooms(meeting_rooms):\n",
    "    start = []\n",
    "    end = []\n",
    "    \n",
    "    for i in range(len(meeting_rooms)):\n",
    "        start.append(meeting_rooms[i][0])\n",
    "        end.append(meeting_rooms[i][1])\n",
    "        \n",
    "    start.sort()\n",
    "    end.sort()\n",
    "    \n",
    "    i = 0\n",
    "    j = 0\n",
    "    count = 0\n",
    "    max_rooms = 0\n",
    "    while i < len(meeting_rooms):\n",
    "        if start[i] < end[j]:\n",
    "            count += 1\n",
    "            i += 1\n",
    "        else:\n",
    "            count -= 1\n",
    "            j += 1\n",
    "            \n",
    "        max_rooms = max(max_rooms, count)\n",
    "    \n",
    "    return max_rooms\n",
    "\n",
    "\n",
    "meeting_rooms_1 = [[0, 30], [5, 10], [15, 20]]\n",
    "expected_1 = 2\n",
    "output_1 = findMeetingRooms(meeting_rooms_1)\n",
    "print(output_1)\n",
    "\n",
    "meeting_rooms_2 = [(65,424),(351,507),(314,807),(387,722),(19,797),(259,722),(165,221),(136,897)]\n",
    "expected_2 = 7\n",
    "output_2 = findMeetingRooms(meeting_rooms_2)\n",
    "print(output_2)"
   ]
  },
  {
   "cell_type": "code",
   "execution_count": 7,
   "metadata": {},
   "outputs": [
    {
     "name": "stdout",
     "output_type": "stream",
     "text": [
      "4\n"
     ]
    }
   ],
   "source": [
    "def longestConsecutive(nums):\n",
    "    nums_set = set(nums)\n",
    "    max_count = 0\n",
    "\n",
    "    for n in nums_set:\n",
    "        if n-1 not in nums_set:\n",
    "            count = 1\n",
    "            while (n+count) in nums_set:\n",
    "                count += 1\n",
    "            max_count = max(count, max_count)\n",
    "\n",
    "    return max_count\n",
    "\n",
    "\n",
    "longestConsecutive_1 = [100, 4, 200, 1, 3, 2]\n",
    "expected_1 = 4\n",
    "output_1 = longestConsecutive(longestConsecutive_1)\n",
    "print(output_1)"
   ]
  },
  {
   "cell_type": "code",
   "execution_count": 12,
   "metadata": {},
   "outputs": [
    {
     "name": "stdout",
     "output_type": "stream",
     "text": [
      "[3, 3, 5, 5, 6, 7]\n",
      "[1]\n"
     ]
    }
   ],
   "source": [
    "import collections\n",
    "\n",
    "def maxSlidingWindow(nums, k):\n",
    "    output = []\n",
    "    q = collections.deque()\n",
    "    l = r = 0\n",
    "\n",
    "    while r < len(nums):\n",
    "        while q and nums[q[-1]] < nums[r]:\n",
    "            q.pop()\n",
    "        q.append(r)\n",
    "\n",
    "        if l > q[0]:\n",
    "            q.popleft()\n",
    "\n",
    "        if (r-l) == k-1:\n",
    "            output.append(nums[q[0]])\n",
    "            l+=1\n",
    "        r+=1\n",
    "\n",
    "    return output\n",
    "\n",
    "\n",
    "numbers_1 = [1, 3, -1, -3, 5, 3, 6, 7]\n",
    "k_1 = 3\n",
    "expected_1 = [3, 3, 5, 5, 6, 7]\n",
    "output_1 = maxSlidingWindow(numbers_1, k_1)\n",
    "print(output_1)\n",
    "\n",
    "numbers_2 = [1]\n",
    "k_2 = 1\n",
    "expected_2 = [1]\n",
    "output_2 = maxSlidingWindow(numbers_2, k_2)\n",
    "print(output_2)"
   ]
  },
  {
   "cell_type": "code",
   "execution_count": 51,
   "metadata": {},
   "outputs": [
    {
     "name": "stdout",
     "output_type": "stream",
     "text": [
      "2\n"
     ]
    }
   ],
   "source": [
    "def fibonacci(n):\n",
    "    a = 0\n",
    "    b = 1\n",
    "\n",
    "    if n==0 or n==1:\n",
    "        return n\n",
    "\n",
    "    for i in range(2, n):\n",
    "        c = a+b\n",
    "        a = b\n",
    "        b = c\n",
    "        \n",
    "    return b\n",
    "\n",
    "\n",
    "n = 4\n",
    "print(fibonacci(n))"
   ]
  },
  {
   "cell_type": "code",
   "execution_count": 54,
   "metadata": {},
   "outputs": [
    {
     "name": "stdout",
     "output_type": "stream",
     "text": [
      "3\n"
     ]
    }
   ],
   "source": [
    "def fibonacci_recursion(n):\n",
    "    if n==0 or n==1:\n",
    "        return n\n",
    "    return fibonacci_recursion(n-1) + fibonacci_recursion(n-2)\n",
    "\n",
    "\n",
    "n = 5\n",
    "print(fibonacci_recursion(n-1))"
   ]
  },
  {
   "cell_type": "code",
   "execution_count": 60,
   "metadata": {},
   "outputs": [
    {
     "name": "stdout",
     "output_type": "stream",
     "text": [
      "True\n"
     ]
    }
   ],
   "source": [
    "def check_colorful(num):\n",
    "    products = set()\n",
    "    num = str(num)\n",
    "    n = len(num)\n",
    "    \n",
    "    for i in range(n):\n",
    "        prod = 1\n",
    "        for j in range(i, n):\n",
    "            prod *= int(num[j])\n",
    "            if prod in products:\n",
    "                return False\n",
    "            products.add(prod)\n",
    "                \n",
    "    return True\n",
    "        \n",
    "\n",
    "number = 3245\n",
    "output = check_colorful(number)\n",
    "print(output)"
   ]
  },
  {
   "cell_type": "code",
   "execution_count": 37,
   "metadata": {},
   "outputs": [
    {
     "name": "stdout",
     "output_type": "stream",
     "text": [
      "6\n",
      "3\n"
     ]
    }
   ],
   "source": [
    "from collections import deque\n",
    "\n",
    "def catchMaxTheifs(arr, k):\n",
    "    n = len(arr)\n",
    "    police, theif = [], []\n",
    "    catched = 0\n",
    "    \n",
    "    for i in range(n):\n",
    "        if arr[i] == \"P\":\n",
    "            police.append(i)\n",
    "        else:\n",
    "            theif.append(i)\n",
    "            \n",
    "    for p in police:\n",
    "        for t in theif:\n",
    "            if abs(t-p) <= k:\n",
    "                theif.remove(t)\n",
    "                catched += 1\n",
    "                break\n",
    "            \n",
    "    return catched\n",
    "\n",
    "\n",
    "def catchMaxTheifsOpt(arr, k):\n",
    "    n = len(arr)\n",
    "    police, theif = [], []\n",
    "    catched = 0\n",
    "    \n",
    "    for i in range(n):\n",
    "        if arr[i] == \"P\":\n",
    "            police.append(i)\n",
    "        else:\n",
    "            theif.append(i)\n",
    "            \n",
    "    p = 0\n",
    "    t = 0\n",
    "    while p < len(police) and t < len(theif):\n",
    "        if abs(police[p] - theif[t]) <= k:\n",
    "            p += 1\n",
    "            t += 1\n",
    "            catched += 1\n",
    "        elif p < t:\n",
    "            p += 1\n",
    "        else:\n",
    "            t += 1\n",
    "            \n",
    "    return catched\n",
    "\n",
    "\n",
    "def catchMaxTheifsOpt2(arr, k):\n",
    "    n = len(arr)\n",
    "    police, theif = deque(), deque()\n",
    "    catched = 0\n",
    "    \n",
    "    for i in range(n):\n",
    "        if arr[i] == \"P\":\n",
    "            police.append(i)\n",
    "        else:\n",
    "            theif.append(i)\n",
    "            \n",
    "        if police and police[0] < i-k:\n",
    "            police.popleft()\n",
    "            \n",
    "        if theif and theif[0] < i-k:\n",
    "            theif.popleft()\n",
    "            \n",
    "        if police and theif and abs(police[0]-theif[0]) <= k:\n",
    "            police.popleft()\n",
    "            theif.popleft()\n",
    "            catched += 1\n",
    "            \n",
    "    return catched\n",
    "\n",
    "\n",
    "arr1 = ['P', 'T', 'T', 'T', 'P', 'P', 'P', 'P', 'T', 'T', 'P', 'P', 'P', 'T']\n",
    "k_1 = 2\n",
    "expected_1 = 2\n",
    "output_1 = catchMaxTheifsOpt2(arr1, k_1)\n",
    "print(output_1)\n",
    "\n",
    "arr2 = ['T', 'T', 'P', 'P', 'T', 'P']\n",
    "k_2 = 2\n",
    "expected_2 = 3\n",
    "output_2 = catchMaxTheifsOpt2(arr2, k_2)\n",
    "print(output_2)"
   ]
  },
  {
   "cell_type": "markdown",
   "metadata": {},
   "source": [
    "### Shuffling - Knuth Shuffle\n",
    "In iteration i, pick r between 0 and i uniformly at random. Swap A[i] with A[r]."
   ]
  },
  {
   "cell_type": "code",
   "execution_count": 40,
   "metadata": {},
   "outputs": [
    {
     "name": "stdout",
     "output_type": "stream",
     "text": [
      "[6, 10, 3, 2, 8, 5, 4, 7, 9]\n"
     ]
    }
   ],
   "source": [
    "import random\n",
    "\n",
    "arr = [2, 3, 4, 5, 6, 7, 8, 9, 10]\n",
    "\n",
    "for i in range(len(arr)):\n",
    "    r = int(random.uniform(0, i))\n",
    "    arr[i], arr[r] = arr[r], arr[i]\n",
    "\n",
    "print(arr)"
   ]
  },
  {
   "cell_type": "markdown",
   "metadata": {},
   "source": [
    "### Intersection of two sets"
   ]
  },
  {
   "cell_type": "code",
   "execution_count": 43,
   "metadata": {},
   "outputs": [
    {
     "name": "stdout",
     "output_type": "stream",
     "text": [
      "{(1, 2), (7, 8), (3, 4), (5, 6)} {(2, 4), (1, 2), (5, 8), (3, 6)}\n",
      "1\n"
     ]
    }
   ],
   "source": [
    "a = [[1, 2], [3, 4], [5, 6], [7, 8]]\n",
    "b = [[1, 2], [2, 4], [3, 6], [5, 8]]\n",
    "\n",
    "count = 0\n",
    "a = set(map(tuple, a))\n",
    "b = set(map(tuple, b))\n",
    "\n",
    "for i in a:\n",
    "    if i in b:\n",
    "        count += 1\n",
    "        \n",
    "print(count)"
   ]
  },
  {
   "cell_type": "markdown",
   "metadata": {},
   "source": [
    "### Quickselect - Kth largest element"
   ]
  },
  {
   "cell_type": "code",
   "execution_count": 20,
   "metadata": {},
   "outputs": [
    {
     "name": "stdout",
     "output_type": "stream",
     "text": [
      "5\n"
     ]
    }
   ],
   "source": [
    "def partition(arr, low, high):\n",
    "    pivot = arr[low]\n",
    "    i = low\n",
    "    j = high\n",
    "\n",
    "    while i < j:\n",
    "        while arr[i] >= pivot and i < high:\n",
    "            i += 1\n",
    "        \n",
    "        while arr[j] < pivot and j > low:\n",
    "            j -= 1\n",
    "            \n",
    "        if i < j:\n",
    "            arr[i], arr[j] = arr[j], arr[i]\n",
    "            \n",
    "    arr[low], arr[j] = arr[j], arr[low]\n",
    "    \n",
    "    return j\n",
    "\n",
    "\n",
    "arr = [3, 2, 4, 9, 5, 6, 1, 8, 7]\n",
    "k = 4\n",
    "\n",
    "low = 0\n",
    "high = len(arr)-1\n",
    "\n",
    "while low < high:\n",
    "    p = partition(arr, low, high)\n",
    "    if p < k:\n",
    "        low = p+1\n",
    "    elif p > k:\n",
    "        high = p-1\n",
    "    else:\n",
    "        break\n",
    "        \n",
    "print(arr[k])"
   ]
  },
  {
   "cell_type": "markdown",
   "metadata": {},
   "source": [
    "### Recursion"
   ]
  },
  {
   "cell_type": "code",
   "execution_count": 57,
   "metadata": {},
   "outputs": [
    {
     "name": "stdout",
     "output_type": "stream",
     "text": [
      "5\n",
      "4\n",
      "3\n",
      "2\n",
      "1\n",
      "---\n",
      "1\n",
      "2\n",
      "3\n",
      "4\n",
      "5\n"
     ]
    }
   ],
   "source": [
    "def fun(n):\n",
    "    if n == 0:\n",
    "        return\n",
    "    print(n)\n",
    "    fun(n-1)\n",
    "\n",
    "def funrev(n):\n",
    "    if n == 0:\n",
    "        return\n",
    "    funrev(n-1)\n",
    "    print(n)\n",
    "\n",
    "\n",
    "fun(5)\n",
    "print(\"---\")\n",
    "funrev(5)"
   ]
  },
  {
   "cell_type": "code",
   "execution_count": 62,
   "metadata": {},
   "outputs": [
    {
     "data": {
      "text/plain": [
       "120"
      ]
     },
     "execution_count": 62,
     "metadata": {},
     "output_type": "execute_result"
    }
   ],
   "source": [
    "def fact(n):\n",
    "    if n <= 1:\n",
    "        return 1\n",
    "    \n",
    "    return n * fact(n-1)\n",
    "\n",
    "\n",
    "fact(5)"
   ]
  },
  {
   "cell_type": "code",
   "execution_count": 108,
   "metadata": {},
   "outputs": [
    {
     "name": "stdout",
     "output_type": "stream",
     "text": [
      "10\n",
      "24\n",
      "4281\n",
      "4281\n"
     ]
    }
   ],
   "source": [
    "def sumOfDigits(n):\n",
    "    if n == 0:\n",
    "        return 0\n",
    "    \n",
    "    return n%10 + sumOfDigits(n//10)\n",
    "\n",
    "def prodOfDigits(n):\n",
    "    if n%10==n:\n",
    "        return n\n",
    "    \n",
    "    return n%10 * prodOfDigits(n//10)\n",
    "\n",
    "def reverseDigits1(n):\n",
    "    if n%10==n:\n",
    "        return str(n)\n",
    "    \n",
    "    return str(n%10) + reverseDigits1(n//10)\n",
    "\n",
    "def reverseDigits2(n, res2=0):\n",
    "    if n==0:\n",
    "        return res2\n",
    "    \n",
    "    res2 = res2*10 + n%10\n",
    "    return reverseDigits2(n//10, res2)\n",
    "\n",
    "\n",
    "print(sumOfDigits(1342))\n",
    "print(prodOfDigits(1342))\n",
    "\n",
    "res1 = reverseDigits1(1824)\n",
    "print(int(res1))\n",
    "\n",
    "res2 = reverseDigits2(1824)\n",
    "print(res2)"
   ]
  },
  {
   "cell_type": "code",
   "execution_count": 113,
   "metadata": {},
   "outputs": [
    {
     "data": {
      "text/plain": [
       "False"
      ]
     },
     "execution_count": 113,
     "metadata": {},
     "output_type": "execute_result"
    }
   ],
   "source": [
    "def palindrome(n, start, end):\n",
    "    if start >= end:\n",
    "        return True\n",
    "\n",
    "    if n[start]!=n[end]:\n",
    "        return False\n",
    "    \n",
    "    return palindrome(n, start+1, end-1)\n",
    "\n",
    "\n",
    "n = \"123221\"\n",
    "palindrome(n, 0, len(n)-1)"
   ]
  },
  {
   "cell_type": "code",
   "execution_count": 186,
   "metadata": {},
   "outputs": [
    {
     "name": "stdout",
     "output_type": "stream",
     "text": [
      "[2, 7, 10]\n"
     ]
    }
   ],
   "source": [
    "def linear_search(arr, target, index, pos):\n",
    "    if index==len(arr):\n",
    "        return\n",
    "    \n",
    "    if arr[index] == target:\n",
    "        pos.append(index+1)\n",
    "        \n",
    "    linear_search(arr, target, index+1, pos)\n",
    "\n",
    "\n",
    "arr = [2, 5, 1, 9, 7, 2, 5, 8, 6, 5]\n",
    "target = 5\n",
    "\n",
    "positions = []\n",
    "linear_search(arr, target, 0, positions)\n",
    "print(positions)"
   ]
  },
  {
   "cell_type": "code",
   "execution_count": null,
   "metadata": {},
   "outputs": [
    {
     "name": "stdout",
     "output_type": "stream",
     "text": [
      "[2, 7, 10]\n"
     ]
    }
   ],
   "source": [
    "def linear_search(arr, target, index=0):\n",
    "    if index==len(arr):\n",
    "        return []\n",
    "\n",
    "    pos = []\n",
    "    if arr[index] == target:\n",
    "        pos = [index+1]\n",
    "        \n",
    "    pos.extend(linear_search(arr, target, index+1))\n",
    "        \n",
    "    return pos\n",
    "\n",
    "\n",
    "arr = [2, 5, 1, 9, 7, 2, 5, 8, 6, 5]\n",
    "target = 5\n",
    "\n",
    "postions = linear_search(arr, target)\n",
    "print(postions)"
   ]
  },
  {
   "cell_type": "code",
   "execution_count": 50,
   "metadata": {},
   "outputs": [
    {
     "name": "stdout",
     "output_type": "stream",
     "text": [
      "1\n"
     ]
    }
   ],
   "source": [
    "def bin_search(arr, low, high, target):\n",
    "    if low > high:\n",
    "        return -1\n",
    "    \n",
    "    mid = (low+high)//2\n",
    "    if arr[mid] == target:\n",
    "        return mid+1\n",
    "    elif arr[mid] > target:\n",
    "        return bin_search(arr, low, mid-1, target)\n",
    "    else:\n",
    "        return bin_search(arr, mid+1, high, target)\n",
    "\n",
    "\n",
    "arr = [1, 11, 15, 23, 34, 67, 72, 74, 78, 89]\n",
    "low = 0\n",
    "high = len(arr) - 1\n",
    "target = 1\n",
    "\n",
    "val = bin_search(arr, low, high, target)\n",
    "print(val)"
   ]
  },
  {
   "cell_type": "code",
   "execution_count": 133,
   "metadata": {},
   "outputs": [
    {
     "name": "stdout",
     "output_type": "stream",
     "text": [
      "*****\n",
      "****\n",
      "***\n",
      "**\n",
      "*\n"
     ]
    }
   ],
   "source": [
    "n = 5\n",
    "\n",
    "for i in range(n, 0, -1):\n",
    "    for j in range(i):\n",
    "        print(\"*\", end=\"\")\n",
    "    print()"
   ]
  },
  {
   "cell_type": "code",
   "execution_count": 181,
   "metadata": {},
   "outputs": [
    {
     "name": "stdout",
     "output_type": "stream",
     "text": [
      "*****\n",
      "****\n",
      "***\n",
      "**\n",
      "*\n",
      "*****\n",
      " ****\n",
      "  ***\n",
      "   **\n",
      "    *\n"
     ]
    }
   ],
   "source": [
    "def pattern1(r, c):\n",
    "    if r < 0:\n",
    "        return\n",
    "    \n",
    "    if c <= r:\n",
    "        print(\"*\", end=\"\")\n",
    "        pattern1(r, c+1)\n",
    "    else:\n",
    "        print()\n",
    "        pattern1(r-1, 0)\n",
    "        \n",
    "def pattern2(n, r, c):\n",
    "    if r < 0:\n",
    "        return\n",
    "    \n",
    "    if c < (n-r-1):\n",
    "        print(\" \", end=\"\")\n",
    "        pattern2(n, r, c+1)\n",
    "    elif c < n:\n",
    "        print(\"*\", end=\"\")\n",
    "        pattern2(n, r, c+1)\n",
    "    else:\n",
    "        print()\n",
    "        pattern2(n, r-1, 0)\n",
    "        \n",
    "        \n",
    "pattern1(4, 0)\n",
    "pattern2(5, 4, 0)"
   ]
  },
  {
   "cell_type": "code",
   "execution_count": 182,
   "metadata": {},
   "outputs": [
    {
     "name": "stdout",
     "output_type": "stream",
     "text": [
      "      *\n",
      "     ***\n",
      "    *****\n",
      "   *******\n",
      "  *********\n",
      " ***********\n",
      "*************\n",
      "*************\n",
      " ***********\n",
      "  *********\n",
      "   *******\n",
      "    *****\n",
      "     ***\n",
      "      *\n"
     ]
    }
   ],
   "source": [
    "n = 7\n",
    "\n",
    "for i in range(n):\n",
    "    for j in range(n-i-1):\n",
    "        print(\" \", end=\"\")\n",
    "    for j in range(2*i+1):\n",
    "        print(\"*\", end=\"\")\n",
    "    print()\n",
    "    \n",
    "for i in range(n):\n",
    "    for j in range(i):\n",
    "        print(\" \", end=\"\")\n",
    "    for j in range(2*(n-i)-1):\n",
    "        print(\"*\", end=\"\")\n",
    "    print()"
   ]
  },
  {
   "cell_type": "code",
   "execution_count": 183,
   "metadata": {},
   "outputs": [
    {
     "name": "stdout",
     "output_type": "stream",
     "text": [
      "      *\n",
      "     ***\n",
      "    *****\n",
      "   *******\n",
      "  *********\n",
      " ***********\n",
      "*************\n",
      "*************\n",
      " ***********\n",
      "  *********\n",
      "   *******\n",
      "    *****\n",
      "     ***\n",
      "      *\n"
     ]
    }
   ],
   "source": [
    "def pattern3(n, r, c):\n",
    "    if r == n:\n",
    "        return\n",
    "    \n",
    "    if c < (n-r-1):\n",
    "        print(\" \", end=\"\")\n",
    "        pattern3(n, r, c+1)\n",
    "    elif c < (n+r):\n",
    "        print(\"*\", end=\"\")\n",
    "        pattern3(n, r, c+1)\n",
    "    else:\n",
    "        print()\n",
    "        pattern3(n, r+1, 0)\n",
    "        \n",
    "def pattern4(n, r, c):\n",
    "    if r < 0:\n",
    "        return\n",
    "    \n",
    "    if c < (n-r-1):\n",
    "        print(\" \", end=\"\")\n",
    "        pattern4(n, r, c+1)\n",
    "    elif c < (n+r):\n",
    "        print(\"*\", end=\"\")\n",
    "        pattern4(n, r, c+1)\n",
    "    else:\n",
    "        print()\n",
    "        pattern4(n, r-1, 0)\n",
    "        \n",
    "        \n",
    "pattern3(7, 0, 0)\n",
    "pattern4(7, 6, 0)"
   ]
  },
  {
   "cell_type": "code",
   "execution_count": 207,
   "metadata": {},
   "outputs": [
    {
     "name": "stdout",
     "output_type": "stream",
     "text": [
      "[1, 2, 3, 4, 5, 6, 7, 8, 9]\n",
      "[1, 11, 15, 23, 34, 67, 77, 77, 88, 99]\n"
     ]
    }
   ],
   "source": [
    "def bubble_sort(arr, i, j):\n",
    "    if i == 0:\n",
    "        return\n",
    "    \n",
    "    if j < i:\n",
    "        if arr[j] > arr[j+1]:\n",
    "            arr[j], arr[j+1] = arr[j+1], arr[j]\n",
    "        bubble_sort(arr, i, j+1)\n",
    "    else:\n",
    "        bubble_sort(arr, i-1, 0)\n",
    "\n",
    "\n",
    "elements_1 = [3, 4, 1, 9, 7, 2, 5, 8, 6]\n",
    "expected_1 = [1, 2, 3, 4, 5, 6, 7, 8, 9]\n",
    "bubble_sort(elements_1, len(elements_1)-1, 0)\n",
    "print(elements_1)\n",
    "\n",
    "elements_2 = [11, 99, 15, 77, 88, 23, 77, 67, 1, 34]\n",
    "expected_2 = [1, 11, 15, 23, 34, 67, 77, 77, 88, 99]\n",
    "bubble_sort(elements_2, len(elements_2)-1, 0)\n",
    "print(elements_2)"
   ]
  },
  {
   "cell_type": "code",
   "execution_count": 216,
   "metadata": {},
   "outputs": [
    {
     "name": "stdout",
     "output_type": "stream",
     "text": [
      "[1, 2, 3, 4, 5, 6, 7, 8, 9]\n",
      "[1, 11, 15, 23, 34, 67, 77, 77, 88, 99]\n"
     ]
    }
   ],
   "source": [
    "def selection_sort(arr, i, j, min):\n",
    "    if i == len(arr)-1:\n",
    "        return\n",
    "    \n",
    "    if j < len(arr):\n",
    "        if arr[min] > arr[j]:\n",
    "            min = j\n",
    "        selection_sort(arr, i, j+1, min)\n",
    "    else:\n",
    "        arr[i], arr[min] = arr[min], arr[i]\n",
    "        selection_sort(arr, i+1, i+2, i+1)\n",
    "        \n",
    "\n",
    "elements_1 = [3, 4, 1, 9, 7, 2, 5, 8, 6]\n",
    "expected_1 = [1, 2, 3, 4, 5, 6, 7, 8, 9]\n",
    "selection_sort(elements_1, 0, 1, 0)\n",
    "print(elements_1)\n",
    "\n",
    "elements_2 = [11, 99, 15, 77, 88, 23, 77, 67, 1, 34]\n",
    "expected_2 = [1, 11, 15, 23, 34, 67, 77, 77, 88, 99]\n",
    "selection_sort(elements_2, 0, 1, 0)\n",
    "print(elements_2)"
   ]
  },
  {
   "cell_type": "code",
   "execution_count": 232,
   "metadata": {},
   "outputs": [
    {
     "data": {
      "text/plain": [
       "'bccd'"
      ]
     },
     "execution_count": 232,
     "metadata": {},
     "output_type": "execute_result"
    }
   ],
   "source": [
    "def remove_char(s, i, c, ans=\"\"):\n",
    "    if i == len(s):\n",
    "        return ans\n",
    "    \n",
    "    if s[i] != c:\n",
    "        ans += s[i]\n",
    "        \n",
    "    return remove_char(s, i+1, c, ans)\n",
    "\n",
    "s = \"baccad\"\n",
    "remove_char(s, 0, \"a\")"
   ]
  },
  {
   "cell_type": "code",
   "execution_count": 240,
   "metadata": {},
   "outputs": [
    {
     "data": {
      "text/plain": [
       "'baccd'"
      ]
     },
     "execution_count": 240,
     "metadata": {},
     "output_type": "execute_result"
    }
   ],
   "source": [
    "def remove_str(s, i, c, ans=\"\"):\n",
    "    if i == len(s):\n",
    "        return ans\n",
    "    \n",
    "    if s[i:].startswith(c):\n",
    "        return remove_str(s, i+5, c, ans)\n",
    "    else:\n",
    "        ans += s[i]\n",
    "        return remove_str(s, i+1, c, ans)\n",
    "        \n",
    "\n",
    "s = \"baccappled\"\n",
    "remove_str(s, 0, \"apple\")"
   ]
  },
  {
   "cell_type": "code",
   "execution_count": 249,
   "metadata": {},
   "outputs": [
    {
     "name": "stdout",
     "output_type": "stream",
     "text": [
      "104 101 108 108 111 \n",
      "ifmmp"
     ]
    }
   ],
   "source": [
    "s = \"hello\"\n",
    "for i in s:\n",
    "    print(ord(i), end=\" \")\n",
    "    \n",
    "print()\n",
    "\n",
    "for i in s:\n",
    "    print(chr(ord(i)+1), end=\"\")"
   ]
  },
  {
   "cell_type": "code",
   "execution_count": 251,
   "metadata": {},
   "outputs": [
    {
     "name": "stdout",
     "output_type": "stream",
     "text": [
      "abc\n",
      "ab\n",
      "ac\n",
      "a\n",
      "bc\n",
      "b\n",
      "c\n",
      "\n"
     ]
    }
   ],
   "source": [
    "def subseq(p, up):\n",
    "    if up == \"\":\n",
    "        print(p)\n",
    "        return\n",
    "    \n",
    "    subseq(p+up[0], up[1:])\n",
    "    subseq(p, up[1:])\n",
    "    \n",
    "    \n",
    "subseq(\"\", \"abc\")"
   ]
  },
  {
   "cell_type": "code",
   "execution_count": null,
   "metadata": {},
   "outputs": [
    {
     "name": "stdout",
     "output_type": "stream",
     "text": [
      "['abc', 'ab', 'ac', 'a', 'bc', 'b', 'c', '']\n"
     ]
    }
   ],
   "source": [
    "def subseq(p, up, ans):\n",
    "    if up == \"\":\n",
    "        ans.append(p)\n",
    "        return\n",
    "    \n",
    "    subseq(p+up[0], up[1:], ans)\n",
    "    subseq(p, up[1:], ans)\n",
    "    \n",
    "    \n",
    "ans = []    \n",
    "subseq(\"\", \"abc\", ans)\n",
    "print(ans)"
   ]
  },
  {
   "cell_type": "code",
   "execution_count": 277,
   "metadata": {},
   "outputs": [
    {
     "data": {
      "text/plain": [
       "['abc', 'ab', 'ac', 'a', 'bc', 'b', 'c', '']"
      ]
     },
     "execution_count": 277,
     "metadata": {},
     "output_type": "execute_result"
    }
   ],
   "source": [
    "def subseq(p, up):\n",
    "    if up == \"\":\n",
    "        return [p]\n",
    "\n",
    "    left = subseq(p+up[0], up[1:])\n",
    "    right = subseq(p, up[1:])\n",
    "    \n",
    "    return left+right\n",
    "    \n",
    "\n",
    "subseq(\"\", \"abc\")"
   ]
  },
  {
   "cell_type": "code",
   "execution_count": 308,
   "metadata": {},
   "outputs": [
    {
     "data": {
      "text/plain": [
       "27"
      ]
     },
     "execution_count": 308,
     "metadata": {},
     "output_type": "execute_result"
    }
   ],
   "source": [
    "def subseq(p, up):\n",
    "    if up == \"\":\n",
    "        return [p]\n",
    "\n",
    "    left = subseq(p+up[0], up[1:])\n",
    "    right = subseq(p, up[1:])\n",
    "    ascii = subseq(p+str(ord(up[0])), up[1:])\n",
    "    \n",
    "    return left+right+ascii\n",
    "    \n",
    "\n",
    "len(subseq(\"\", \"abc\"))"
   ]
  },
  {
   "cell_type": "markdown",
   "metadata": {},
   "source": [
    "### Subset problem using recursion"
   ]
  },
  {
   "cell_type": "code",
   "execution_count": 323,
   "metadata": {},
   "outputs": [
    {
     "name": "stdout",
     "output_type": "stream",
     "text": [
      "[[1, 2, 3], [1, 2], [1, 3], [1], [2, 3], [2], [3], []]\n"
     ]
    }
   ],
   "source": [
    "def subset(p, up, ans):\n",
    "    if up == []:\n",
    "        ans.append(p)\n",
    "        return\n",
    "    \n",
    "    subset(p+[up[0]], up[1:], ans)\n",
    "    subset(p, up[1:], ans)\n",
    "    \n",
    "    \n",
    "ans = []    \n",
    "subset([], [1, 2, 3], ans)\n",
    "print(ans)"
   ]
  },
  {
   "cell_type": "markdown",
   "metadata": {},
   "source": [
    "### Subset problem using iteration"
   ]
  },
  {
   "cell_type": "code",
   "execution_count": 9,
   "metadata": {},
   "outputs": [
    {
     "name": "stdout",
     "output_type": "stream",
     "text": [
      "[[], [1], [2], [1, 2], [3], [1, 3], [2, 3], [1, 2, 3]]\n"
     ]
    }
   ],
   "source": [
    "arr = [1, 2, 3]\n",
    "\n",
    "ans = [[]]\n",
    "for i in range(len(arr)):\n",
    "    temp = ans.copy()\n",
    "    for j in range(len(ans)):\n",
    "        temp[j] = temp[j]+[arr[i]]\n",
    "    ans.extend(temp)\n",
    "    \n",
    "print(ans)"
   ]
  },
  {
   "cell_type": "code",
   "execution_count": 15,
   "metadata": {},
   "outputs": [
    {
     "name": "stdout",
     "output_type": "stream",
     "text": [
      "[[], [1], [2], [1, 2], [3], [1, 3], [2, 3], [1, 2, 3]]\n"
     ]
    }
   ],
   "source": [
    "arr = [1, 2, 3]\n",
    "\n",
    "ans = [[]]\n",
    "for i in range(len(arr)):\n",
    "    n = len(ans)\n",
    "    for j in range(n):\n",
    "        ans.append(ans[j]+[arr[i]])\n",
    "    \n",
    "print(ans)"
   ]
  },
  {
   "cell_type": "markdown",
   "metadata": {},
   "source": [
    "Time Complexity Recursion: O(2^n)\n",
    "\n",
    "Time Complexity Iteration: O(n*2^n)\n",
    "\n",
    "Space Complexity: O(n*2^n)"
   ]
  },
  {
   "cell_type": "markdown",
   "metadata": {},
   "source": [
    "### Duplicate elements in a set"
   ]
  },
  {
   "cell_type": "code",
   "execution_count": 87,
   "metadata": {},
   "outputs": [
    {
     "name": "stdout",
     "output_type": "stream",
     "text": [
      "24\n",
      "[[], [1], [2], [1, 2], [2, 2], [1, 2, 2], [2, 2, 2], [1, 2, 2, 2], [3], [1, 3], [2, 3], [1, 2, 3], [2, 2, 3], [1, 2, 2, 3], [2, 2, 2, 3], [1, 2, 2, 2, 3], [3, 3], [1, 3, 3], [2, 3, 3], [1, 2, 3, 3], [2, 2, 3, 3], [1, 2, 2, 3, 3], [2, 2, 2, 3, 3], [1, 2, 2, 2, 3, 3]]\n"
     ]
    }
   ],
   "source": [
    "arr = [1, 2, 2, 2, 3, 3]\n",
    "\n",
    "ans = [[]]\n",
    "for i in range(len(arr)):\n",
    "    start = 0\n",
    "    if i > 0 and arr[i]==arr[i-1]:\n",
    "        start = end\n",
    "    end = len(ans)\n",
    "    \n",
    "    for j in range(start, end):\n",
    "        ans.append(ans[j]+[arr[i]])\n",
    "    \n",
    "print(len(ans))\n",
    "print(ans)"
   ]
  },
  {
   "cell_type": "code",
   "execution_count": 88,
   "metadata": {},
   "outputs": [
    {
     "name": "stdout",
     "output_type": "stream",
     "text": [
      "24\n",
      "[[1, 2, 2, 2, 3, 3], [1, 2, 2, 2, 3], [1, 2, 2, 2], [1, 2, 2, 3, 3], [1, 2, 2, 3], [1, 2, 2], [1, 2, 3, 3], [1, 2, 3], [1, 2], [1, 3, 3], [1, 3], [1], [2, 2, 2, 3, 3], [2, 2, 2, 3], [2, 2, 2], [2, 2, 3, 3], [2, 2, 3], [2, 2], [2, 3, 3], [2, 3], [2], [3, 3], [3], []]\n"
     ]
    }
   ],
   "source": [
    "def subset(p, up, i, ans):\n",
    "    if i == len(up):\n",
    "        ans.append(p)\n",
    "        return\n",
    "    \n",
    "    subset(p+[up[i]], up, i+1, ans)\n",
    "    while i+1 < len(up) and up[i]==up[i+1]:\n",
    "        i+=1\n",
    "    subset(p, up, i+1, ans)\n",
    "    \n",
    "    \n",
    "ans = []\n",
    "subset([], [1, 2, 2, 2, 3, 3], 0, ans)\n",
    "print(len(ans))\n",
    "print(ans)"
   ]
  },
  {
   "cell_type": "markdown",
   "metadata": {},
   "source": [
    "### Permutation problem"
   ]
  },
  {
   "cell_type": "code",
   "execution_count": 2,
   "metadata": {},
   "outputs": [
    {
     "name": "stdout",
     "output_type": "stream",
     "text": [
      "['cba', 'bca', 'bac', 'cab', 'acb', 'abc']\n"
     ]
    }
   ],
   "source": [
    "def subseq(p, up, ans):\n",
    "    if up == \"\":\n",
    "        ans.append(p)\n",
    "        return\n",
    "    \n",
    "    for i in range(len(p)+1):\n",
    "        new_p = p[:i]+up[0]+p[i:]\n",
    "        subseq(new_p, up[1:], ans)\n",
    "    \n",
    "    \n",
    "ans = []    \n",
    "subseq(\"\", \"abc\", ans)\n",
    "print(ans)"
   ]
  },
  {
   "cell_type": "code",
   "execution_count": 6,
   "metadata": {},
   "outputs": [
    {
     "name": "stdout",
     "output_type": "stream",
     "text": [
      "[[3, 2, 1], [2, 3, 1], [2, 1, 3], [3, 1, 2], [1, 3, 2], [1, 2, 3]]\n"
     ]
    }
   ],
   "source": [
    "def subset(p, up, ui, ans):\n",
    "    if ui == len(up):\n",
    "        ans.append(p)\n",
    "        return\n",
    "    \n",
    "    for i in range(len(p)+1):\n",
    "        new_p = p[:i]+[up[ui]]+p[i:]\n",
    "        subset(new_p, up, ui+1, ans)\n",
    "    \n",
    "    \n",
    "ans = []\n",
    "subset([], [1, 2, 3], 0, ans)\n",
    "print(ans)"
   ]
  },
  {
   "cell_type": "code",
   "execution_count": 8,
   "metadata": {},
   "outputs": [
    {
     "data": {
      "text/plain": [
       "[[3, 2, 1], [2, 3, 1], [2, 1, 3], [3, 1, 2], [1, 3, 2], [1, 2, 3]]"
      ]
     },
     "execution_count": 8,
     "metadata": {},
     "output_type": "execute_result"
    }
   ],
   "source": [
    "def subset(p, up, ui):\n",
    "    if ui == len(up):\n",
    "        return [p]\n",
    "    \n",
    "    ans = []\n",
    "    for i in range(len(p)+1):\n",
    "        new_p = p[:i]+[up[ui]]+p[i:]\n",
    "        ans.extend(subset(new_p, up, ui+1))\n",
    "        \n",
    "    return ans\n",
    "    \n",
    "    \n",
    "subset([], [1, 2, 3], 0)"
   ]
  },
  {
   "cell_type": "code",
   "execution_count": 94,
   "metadata": {},
   "outputs": [
    {
     "name": "stdout",
     "output_type": "stream",
     "text": [
      "[[3, 2, 1], [2, 3, 1], [2, 1, 3], [3, 1, 2], [1, 3, 2], [1, 2, 3]]\n"
     ]
    }
   ],
   "source": [
    "arr = [1, 2, 3]\n",
    "\n",
    "ans = [[]]\n",
    "\n",
    "for i in range(len(arr)):\n",
    "    temp = []\n",
    "    for j in range(len(ans)):\n",
    "        for k in range(len(ans[j])+1):\n",
    "            new = ans[j][:k]+[arr[i]]+ans[j][k:]\n",
    "            temp.append(new)\n",
    "    ans = temp\n",
    "    \n",
    "print(ans)"
   ]
  },
  {
   "cell_type": "markdown",
   "metadata": {},
   "source": [
    "Time Complexity Recursion: O(n*n!)\n",
    "\n",
    "Time Complexity Iteration: O(n*n!)\n",
    "\n",
    "Space Complexity: O(n*n!)"
   ]
  },
  {
   "cell_type": "code",
   "execution_count": null,
   "metadata": {},
   "outputs": [
    {
     "name": "stdout",
     "output_type": "stream",
     "text": [
      "['ad', 'ae', 'af', 'bd', 'be', 'bf', 'cd', 'ce', 'cf']\n"
     ]
    }
   ],
   "source": [
    "maps = {\"2\": \"abc\", \n",
    "    \"3\": \"def\",\n",
    "    \"4\": \"ghi\",\n",
    "    \"5\": \"jkl\",\n",
    "    \"6\": \"mno\",\n",
    "    \"7\": \"pqrs\",\n",
    "    \"8\": \"tuv\",\n",
    "    \"9\": \"wxyz\"}\n",
    "\n",
    "ans = [\"\"]\n",
    "nums = \"23\"\n",
    "patterns = [maps[e] for e in nums]\n",
    "\n",
    "for letter in patterns:\n",
    "    temp = []\n",
    "    for j in ans:\n",
    "        for k in letter:\n",
    "            temp.append(j+k)\n",
    "    ans = temp\n",
    "    \n",
    "print(ans)\n",
    "\n",
    "# Time complexity - O(m^n)\n",
    "# Space complexity - O(n*m^n)\n",
    "# m - number of letters (average)\n",
    "# n - number of digits"
   ]
  },
  {
   "cell_type": "code",
   "execution_count": 33,
   "metadata": {},
   "outputs": [
    {
     "name": "stdout",
     "output_type": "stream",
     "text": [
      "['ad', 'ae', 'af', 'bd', 'be', 'bf', 'cd', 'ce', 'cf']\n"
     ]
    }
   ],
   "source": [
    "maps = {\"2\": \"abc\", \n",
    "    \"3\": \"def\",\n",
    "    \"4\": \"ghi\",\n",
    "    \"5\": \"jkl\",\n",
    "    \"6\": \"mno\",\n",
    "    \"7\": \"pqrs\",\n",
    "    \"8\": \"tuv\",\n",
    "    \"9\": \"wxyz\"}\n",
    "\n",
    "def comb(p, up, ui, ans):\n",
    "    if ui == len(up):\n",
    "        ans.append(p)\n",
    "        return\n",
    "    \n",
    "    for i in up[ui]:\n",
    "        comb(p+i, up, ui+1, ans)\n",
    "    \n",
    "    \n",
    "patterns = [maps[e] for e in nums]\n",
    "ans = []\n",
    "comb(\"\", patterns, 0, ans)\n",
    "print(ans)"
   ]
  },
  {
   "cell_type": "code",
   "execution_count": 54,
   "metadata": {},
   "outputs": [
    {
     "name": "stdout",
     "output_type": "stream",
     "text": [
      "6\n"
     ]
    }
   ],
   "source": [
    "def dice_roll(p, up, ui, target):\n",
    "    if ui == len(up):\n",
    "        if sum(p) == target:\n",
    "            return 1\n",
    "        else:\n",
    "            return 0\n",
    "        \n",
    "    count = 0\n",
    "    for i in up[ui]:\n",
    "        count = count + dice_roll(p+[i], up, ui+1, target)\n",
    "        \n",
    "    return count\n",
    "    \n",
    "n, k, target = 2, 6, 7\n",
    "options = [list(range(1, k+1)) for i in range(n)]\n",
    "count = dice_roll([], options, 0, target)\n",
    "print(count)"
   ]
  },
  {
   "cell_type": "code",
   "execution_count": 55,
   "metadata": {},
   "outputs": [
    {
     "name": "stdout",
     "output_type": "stream",
     "text": [
      "[[1, 1, 1, 1], [1, 1, 2], [1, 2, 1], [1, 3], [2, 1, 1], [2, 2], [3, 1], [4]]\n"
     ]
    }
   ],
   "source": [
    "def dice_roll(p, up, dice_n, ans):\n",
    "    if up == 0:\n",
    "        ans.append(p)\n",
    "        return\n",
    "    \n",
    "    i = 1\n",
    "    while i <= dice_n and i <= up:\n",
    "        dice_roll(p+[i], up-i, dice_n, ans)\n",
    "        i+=1\n",
    "    \n",
    "\n",
    "target = 4\n",
    "ans = []\n",
    "dice_roll([], target, 6, ans)\n",
    "print(ans)"
   ]
  },
  {
   "cell_type": "code",
   "execution_count": 56,
   "metadata": {},
   "outputs": [
    {
     "name": "stdout",
     "output_type": "stream",
     "text": [
      "[[1, 6], [2, 5], [3, 4], [4, 3], [5, 2], [6, 1]]\n"
     ]
    }
   ],
   "source": [
    "def dice_roll(p, up, n, k, ans):\n",
    "    if up == 0:\n",
    "        ans.append(p)\n",
    "        return\n",
    "    \n",
    "    i = 1\n",
    "    while i <= k and i <= up and len(p) < n:\n",
    "        dice_roll(p+[i], up-i, n, k, ans)\n",
    "        i+=1\n",
    "    \n",
    "\n",
    "target = 7\n",
    "n = 2\n",
    "k = 6\n",
    "ans = []\n",
    "dice_roll([], target, n, k, ans)\n",
    "print(ans)"
   ]
  },
  {
   "cell_type": "markdown",
   "metadata": {},
   "source": [
    "### Backtracking"
   ]
  },
  {
   "cell_type": "code",
   "execution_count": 58,
   "metadata": {},
   "outputs": [
    {
     "name": "stdout",
     "output_type": "stream",
     "text": [
      "20\n"
     ]
    }
   ],
   "source": [
    "def maze(r, c):\n",
    "    if r == 1 or c == 1:\n",
    "        return 1\n",
    "    \n",
    "    count = 0\n",
    "    count += maze(r-1, c)\n",
    "    count += maze(r, c-1)\n",
    "    \n",
    "    return count\n",
    "\n",
    "\n",
    "count = maze(4, 4)\n",
    "print(count)"
   ]
  },
  {
   "cell_type": "code",
   "execution_count": 82,
   "metadata": {},
   "outputs": [
    {
     "name": "stdout",
     "output_type": "stream",
     "text": [
      "['DDRR', 'DRDR', 'DRRD', 'RDDR', 'RDRD', 'RRDD']\n"
     ]
    }
   ],
   "source": [
    "def maze(p, r, c, ans):\n",
    "    if r == 1 and c == 1:\n",
    "        ans.append(p)\n",
    "        return\n",
    "    \n",
    "    if r > 1:\n",
    "        maze(p+\"D\", r-1, c, ans)\n",
    "    if c > 1:\n",
    "        maze(p+\"R\", r, c-1, ans)\n",
    "\n",
    "\n",
    "ans = []\n",
    "maze(\"\", 3, 3, ans)\n",
    "print(ans)\n",
    "\n",
    "# Time complexity - O(2^(r+c))\n",
    "# Space complexity - O(2^(r+c))"
   ]
  },
  {
   "cell_type": "code",
   "execution_count": 132,
   "metadata": {},
   "outputs": [
    {
     "name": "stdout",
     "output_type": "stream",
     "text": [
      "13\n",
      "['DD', 'DVH', 'DHV', 'VDH', 'VVHH', 'VHD', 'VHVH', 'VHHV', 'HDV', 'HVD', 'HVVH', 'HVHV', 'HHVV']\n"
     ]
    }
   ],
   "source": [
    "def maze_diag(p, r, c, ans):\n",
    "    if r == 1 and c == 1:\n",
    "        ans.append(p)\n",
    "        return\n",
    "    \n",
    "    if r > 1 and c > 1:\n",
    "        maze_diag(p+\"D\", r-1, c-1, ans)\n",
    "    if r > 1:\n",
    "        maze_diag(p+\"V\", r-1, c, ans)\n",
    "    if c > 1:\n",
    "        maze_diag(p+\"H\", r, c-1, ans)\n",
    "\n",
    "\n",
    "ans = []\n",
    "maze_diag(\"\", 3, 3, ans)\n",
    "print(len(ans))\n",
    "print(ans)\n",
    "\n",
    "# Time complexity - O(3^(r+c))\n",
    "# Space complexity - O(3^(r+c))"
   ]
  },
  {
   "cell_type": "code",
   "execution_count": 90,
   "metadata": {},
   "outputs": [
    {
     "name": "stdout",
     "output_type": "stream",
     "text": [
      "['DDRR', 'DRDR', 'DRRD', 'RDDR', 'RDRD']\n"
     ]
    }
   ],
   "source": [
    "def maze_obs(p, r, c, maze, ans):\n",
    "    if r == len(maze[0])-1 and c == len(maze)-1:\n",
    "        ans.append(p)\n",
    "        return\n",
    "    \n",
    "    if maze[r][c]:\n",
    "        return\n",
    "    \n",
    "    if r < len(maze[0])-1:\n",
    "        maze_obs(p+\"D\", r+1, c, maze, ans)\n",
    "    if c < len(maze)-1:\n",
    "        maze_obs(p+\"R\", r, c+1, maze, ans)\n",
    "\n",
    "\n",
    "maze = [[0, 0, 1], [0, 0, 0], [0, 0, 0]]\n",
    "ans = []\n",
    "maze_obs(\"\", 0, 0, maze, ans)\n",
    "print(ans)"
   ]
  },
  {
   "cell_type": "code",
   "execution_count": 5,
   "metadata": {},
   "outputs": [
    {
     "name": "stdout",
     "output_type": "stream",
     "text": [
      "['DDRR', 'DDRURD', 'DDRUURDD', 'DRDR', 'DRRD', 'DRURDD', 'RDDR', 'RDRD', 'RDLDRR', 'RRDD', 'RRDLDR', 'RRDLLDRR']\n"
     ]
    }
   ],
   "source": [
    "def maze_back(p, r, c, maze):\n",
    "    if r == len(maze[0])-1 and c == len(maze)-1:\n",
    "        return [p]\n",
    "    \n",
    "    if not maze[r][c]:\n",
    "        return []\n",
    "    \n",
    "    ans = []\n",
    "    maze[r][c] = False # Set state as visited before another recursive call\n",
    "    \n",
    "    if r < len(maze[0])-1:\n",
    "        path = maze_back(p+\"D\", r+1, c, maze)\n",
    "        ans += path\n",
    "        \n",
    "    if c < len(maze)-1:\n",
    "        path = maze_back(p+\"R\", r, c+1, maze)\n",
    "        ans += path\n",
    "        \n",
    "    if r > 0:\n",
    "        path = maze_back(p+\"U\", r-1, c, maze)\n",
    "        ans += path\n",
    "        \n",
    "    if c > 0:\n",
    "        path = maze_back(p+\"L\", r, c-1, maze)\n",
    "        ans += path\n",
    "        \n",
    "    maze[r][c] = True # Set as original before returning to previous call\n",
    "    \n",
    "    return ans\n",
    "\n",
    "\n",
    "maze = [[True, True, True], [True, True, True], [True, True, True]]\n",
    "ans = maze_back(\"\", 0, 0, maze)\n",
    "print(ans)"
   ]
  },
  {
   "cell_type": "code",
   "execution_count": 4,
   "metadata": {},
   "outputs": [
    {
     "name": "stdout",
     "output_type": "stream",
     "text": [
      "['DDRR', 'DDRURD', 'DDRUURDD', 'DRDR', 'DRRD', 'DRURDD', 'RDDR', 'RDRD', 'RDLDRR', 'RRDD', 'RRDLDR', 'RRDLLDRR']\n"
     ]
    }
   ],
   "source": [
    "def maze_back(p, r, c, maze, ans):\n",
    "    if r == len(maze[0])-1 and c == len(maze)-1:\n",
    "        ans.append(p)\n",
    "        return\n",
    "    \n",
    "    if not maze[r][c]:\n",
    "        return\n",
    "    \n",
    "    maze[r][c] = False # Set state as visited before another recursive call\n",
    "    \n",
    "    if r < len(maze[0])-1:\n",
    "        maze_back(p+\"D\", r+1, c, maze, ans)\n",
    "    if c < len(maze)-1:\n",
    "        maze_back(p+\"R\", r, c+1, maze, ans)\n",
    "    if r > 0:\n",
    "        maze_back(p+\"U\", r-1, c, maze, ans)\n",
    "    if c > 0:\n",
    "        maze_back(p+\"L\", r, c-1, maze, ans)\n",
    "        \n",
    "    maze[r][c] = True # Set as original before returning to previous call\n",
    "\n",
    "\n",
    "maze = [[True, True, True], [True, True, True], [True, True, True]]\n",
    "ans = []\n",
    "maze_back(\"\", 0, 0, maze, ans)\n",
    "print(ans)"
   ]
  },
  {
   "cell_type": "code",
   "execution_count": 3,
   "metadata": {},
   "outputs": [
    {
     "name": "stdout",
     "output_type": "stream",
     "text": [
      "[1, 0, 0]\n",
      "[2, 0, 0]\n",
      "[3, 4, 5]\n",
      "\n",
      "[1, 0, 0]\n",
      "[2, 5, 6]\n",
      "[3, 4, 7]\n",
      "\n",
      "[1, 6, 7]\n",
      "[2, 5, 8]\n",
      "[3, 4, 9]\n",
      "\n",
      "[1, 0, 0]\n",
      "[2, 3, 0]\n",
      "[0, 4, 5]\n",
      "\n",
      "[1, 0, 0]\n",
      "[2, 3, 4]\n",
      "[0, 0, 5]\n",
      "\n",
      "[1, 4, 5]\n",
      "[2, 3, 6]\n",
      "[0, 0, 7]\n",
      "\n",
      "[1, 2, 0]\n",
      "[0, 3, 0]\n",
      "[0, 4, 5]\n",
      "\n",
      "[1, 2, 0]\n",
      "[0, 3, 4]\n",
      "[0, 0, 5]\n",
      "\n",
      "[1, 2, 0]\n",
      "[4, 3, 0]\n",
      "[5, 6, 7]\n",
      "\n",
      "[1, 2, 3]\n",
      "[0, 0, 4]\n",
      "[0, 0, 5]\n",
      "\n",
      "[1, 2, 3]\n",
      "[0, 5, 4]\n",
      "[0, 6, 7]\n",
      "\n",
      "[1, 2, 3]\n",
      "[6, 5, 4]\n",
      "[7, 8, 9]\n",
      "\n",
      "['DDRR', 'DDRURD', 'DDRUURDD', 'DRDR', 'DRRD', 'DRURDD', 'RDDR', 'RDRD', 'RDLDRR', 'RRDD', 'RRDLDR', 'RRDLLDRR']\n"
     ]
    }
   ],
   "source": [
    "def maze_back(p, r, c, maze, path, step, ans):\n",
    "    if r == len(maze[0])-1 and c == len(maze)-1:\n",
    "        path [r][c] = step\n",
    "        for i in range(len(path)):\n",
    "            print(path[i])\n",
    "        print()\n",
    "        ans.append(p)\n",
    "        return\n",
    "    \n",
    "    if not maze[r][c]:\n",
    "        return\n",
    "    \n",
    "    maze[r][c] = False # Set state as visited before another recursive call\n",
    "    path [r][c] = step\n",
    "    \n",
    "    if r < len(maze[0])-1:\n",
    "        maze_back(p+\"D\", r+1, c, maze, path, step+1, ans)\n",
    "    if c < len(maze)-1:\n",
    "        maze_back(p+\"R\", r, c+1, maze, path, step+1, ans)\n",
    "    if r > 0:\n",
    "        maze_back(p+\"U\", r-1, c, maze, path, step+1, ans)\n",
    "    if c > 0:\n",
    "        maze_back(p+\"L\", r, c-1, maze, path, step+1, ans)\n",
    "        \n",
    "    maze[r][c] = True # Set as original before returning to previous call\n",
    "    path [r][c] = 0\n",
    "\n",
    "\n",
    "maze = [[True, True, True], [True, True, True], [True, True, True]]\n",
    "ans = []\n",
    "path = [[0, 0, 0], [0, 0, 0], [0, 0, 0]]\n",
    "step = 1\n",
    "maze_back(\"\", 0, 0, maze, path, step, ans)\n",
    "print(ans)"
   ]
  },
  {
   "cell_type": "code",
   "execution_count": 2,
   "metadata": {},
   "outputs": [
    {
     "name": "stdout",
     "output_type": "stream",
     "text": [
      "2\n",
      "[['.Q..', '...Q', 'Q...', '..Q.'], ['..Q.', 'Q...', '...Q', '.Q..']]\n"
     ]
    }
   ],
   "source": [
    "def NQueens(r, board, ans):\n",
    "    if r == len(board):\n",
    "        res = [\"\".join(row) for row in board]\n",
    "        ans.append(res)\n",
    "        return 1\n",
    "    \n",
    "    count = 0\n",
    "    for c in range(0, len(board)):\n",
    "        if is_safe(r, c, board):\n",
    "            board[r][c] = \"Q\"\n",
    "            count += NQueens(r+1, board, ans)\n",
    "            board[r][c] = \".\"\n",
    "        \n",
    "    return count\n",
    "\n",
    "def is_safe(r, c, board):\n",
    "    # check top \n",
    "    for i in range(0, r):\n",
    "        if board[i][c] == \"Q\":\n",
    "            return False\n",
    "        \n",
    "    # check left diagonal\n",
    "    max_left = min(r, c)\n",
    "    for i in range(1, max_left+1):\n",
    "        if board[r-i][c-i] == \"Q\":\n",
    "            return False\n",
    "        \n",
    "    # check right diagonal\n",
    "    max_right = min(r, len(board)-c-1)   \n",
    "    for i in range(1, max_right+1):\n",
    "        if board[r-i][c+i] == \"Q\":\n",
    "            return False\n",
    "        \n",
    "    return True\n",
    "\n",
    "\n",
    "ans = []\n",
    "n = 4\n",
    "board = [[\".\"] * n for _ in range(n)]\n",
    "count = NQueens(0, board, ans)\n",
    "print(count)\n",
    "print(ans)"
   ]
  },
  {
   "cell_type": "markdown",
   "metadata": {},
   "source": [
    "Time Complexity: O(n!*n)\n",
    "\n",
    "Space Complexity: O(n!*n^2) for storing results plus O(n^2) for the board plus O(n) for recursion"
   ]
  },
  {
   "cell_type": "code",
   "execution_count": 18,
   "metadata": {},
   "outputs": [
    {
     "name": "stdout",
     "output_type": "stream",
     "text": [
      "6\n",
      "[['KK', '..'], ['K.', 'K.'], ['K.', '.K'], ['.K', 'K.'], ['.K', '.K'], ['..', 'KK']]\n"
     ]
    }
   ],
   "source": [
    "def NKnights(r, c, n, board, ans):\n",
    "    if n == 0:\n",
    "        res = [\"\".join(row) for row in board]\n",
    "        ans.append(res)\n",
    "        return 1\n",
    "    \n",
    "    if c == len(board):\n",
    "        r += 1\n",
    "        c = 0\n",
    "        \n",
    "    if r == len(board):\n",
    "        return 0\n",
    "    \n",
    "    count = 0\n",
    "    if is_safe(r, c, board):\n",
    "        board[r][c] = \"K\"\n",
    "        count += NKnights(r, c+1, n-1, board, ans)\n",
    "        board[r][c] = \".\"\n",
    "        \n",
    "    count += NKnights(r, c+1, n, board, ans)\n",
    "        \n",
    "    return count\n",
    "\n",
    "def is_safe(r, c, board):\n",
    "    if is_valid(r-1, c-2, board):\n",
    "        if board[r-1][c-2] == \"K\":\n",
    "            return False\n",
    "        \n",
    "    if is_valid(r-2, c-1, board):\n",
    "        if board[r-2][c-1] == \"K\":\n",
    "            return False\n",
    "    \n",
    "    if is_valid(r-1, c+2, board):    \n",
    "        if board[r-1][c+2] == \"K\":\n",
    "            return False\n",
    "    \n",
    "    if is_valid(r-2, c+1, board):    \n",
    "        if board[r-2][c+1] == \"K\":\n",
    "            return False\n",
    "    \n",
    "    return True\n",
    "\n",
    "def is_valid(r, c, board):\n",
    "    if r >= 0 and r < len(board) and c >= 0 and c < len(board):\n",
    "        return True\n",
    "    \n",
    "    return False\n",
    "\n",
    "\n",
    "ans = []\n",
    "n = 2\n",
    "board = [[\".\"] * n for _ in range(n)]\n",
    "count = NKnights(0, 0, n, board, ans)\n",
    "print(count)\n",
    "print(ans)"
   ]
  },
  {
   "cell_type": "code",
   "execution_count": 31,
   "metadata": {},
   "outputs": [
    {
     "data": {
      "text/plain": [
       "[['5', '3', '4', '6', '7', '8', '9', '1', '2'],\n",
       " ['6', '7', '2', '1', '9', '5', '3', '4', '8'],\n",
       " ['1', '9', '8', '3', '4', '2', '5', '6', '7'],\n",
       " ['8', '5', '9', '7', '6', '1', '4', '2', '3'],\n",
       " ['4', '2', '6', '8', '5', '3', '7', '9', '1'],\n",
       " ['7', '1', '3', '9', '2', '4', '8', '5', '6'],\n",
       " ['9', '6', '1', '5', '3', '7', '2', '8', '4'],\n",
       " ['2', '8', '7', '4', '1', '9', '6', '3', '5'],\n",
       " ['3', '4', '5', '2', '8', '6', '1', '7', '9']]"
      ]
     },
     "execution_count": 31,
     "metadata": {},
     "output_type": "execute_result"
    }
   ],
   "source": [
    "import math\n",
    "\n",
    "def solveSudoku(r, c, board):\n",
    "    if r == len(board)-1 and c == len(board):\n",
    "        return True\n",
    "    \n",
    "    if c == len(board):\n",
    "        r += 1\n",
    "        c = 0\n",
    "\n",
    "    if board[r][c] == \".\":\n",
    "        for num in range(1, 10):\n",
    "            if is_safe(r, c, board, str(num)):\n",
    "                board[r][c] = str(num)\n",
    "                if solveSudoku(r, c+1, board):\n",
    "                    return True\n",
    "                board[r][c] = \".\"\n",
    "                \n",
    "        return False\n",
    "                \n",
    "    return solveSudoku(r, c+1, board)\n",
    "\n",
    "def is_safe(r, c, board, num):\n",
    "    # check row \n",
    "    for i in range(0, len(board)):\n",
    "        if board[r][i] == num:\n",
    "            return False\n",
    "        \n",
    "    # check column\n",
    "    for i in range(0, len(board)):\n",
    "        if board[i][c] == num:\n",
    "            return False\n",
    "        \n",
    "    # check box\n",
    "    l = int(math.sqrt(len(board)))\n",
    "    s_r, s_c = r - (r%l), c - (c%l)\n",
    "    for i in range(s_r, s_r+l):\n",
    "        for j in range(s_c, s_c+l):\n",
    "            if board[i][j] == num:\n",
    "                return False\n",
    "        \n",
    "    return True\n",
    "\n",
    "\n",
    "board = [[\"5\",\"3\",\".\",\".\",\"7\",\".\",\".\",\".\",\".\"],[\"6\",\".\",\".\",\"1\",\"9\",\"5\",\".\",\".\",\".\"],[\".\",\"9\",\"8\",\".\",\".\",\".\",\".\",\"6\",\".\"],[\"8\",\".\",\".\",\".\",\"6\",\".\",\".\",\".\",\"3\"],[\"4\",\".\",\".\",\"8\",\".\",\"3\",\".\",\".\",\"1\"],[\"7\",\".\",\".\",\".\",\"2\",\".\",\".\",\".\",\"6\"],[\".\",\"6\",\".\",\".\",\".\",\".\",\"2\",\"8\",\".\"],[\".\",\".\",\".\",\"4\",\"1\",\"9\",\".\",\".\",\"5\"],[\".\",\".\",\".\",\".\",\"8\",\".\",\".\",\"7\",\"9\"]]\n",
    "\n",
    "solveSudoku(0, 0, board)\n",
    "board\n",
    "\n",
    "# Time Complexity - O(9^(n*n))"
   ]
  },
  {
   "cell_type": "markdown",
   "metadata": {},
   "source": [
    "### Binary tree"
   ]
  },
  {
   "cell_type": "code",
   "execution_count": 17,
   "metadata": {},
   "outputs": [
    {
     "name": "stdout",
     "output_type": "stream",
     "text": [
      "15\n",
      "\t8\n",
      "\t\t10\n",
      "\t\t\t12\n",
      "\t\t\t\t13\n",
      "\t\t14\n",
      "\t6\n"
     ]
    }
   ],
   "source": [
    "class Node:\n",
    "    def __init__(self, data):\n",
    "        self.data = data\n",
    "        self.left = None\n",
    "        self.right = None\n",
    "        \n",
    "class BinaryTree:\n",
    "    def __init__(self, data):\n",
    "        node = Node(data)\n",
    "        self.root = node\n",
    "        \n",
    "    def populate(self, node):\n",
    "        left = int(input(f\"Do you want to insert the left of {node.data}\"))\n",
    "        if left:\n",
    "            data = int(input(\"Enter the left node value\"))\n",
    "            node.left = Node(data)\n",
    "            self.populate(node.left)\n",
    "            \n",
    "        right = int(input(f\"Do you want to insert the right of {node.data}\"))\n",
    "        if right:\n",
    "            data = int(input(\"Enter the right node value\"))\n",
    "            node.right = Node(data)\n",
    "            self.populate(node.right)\n",
    "    \n",
    "    def display(self, node, indent):\n",
    "        if node == None:\n",
    "            return\n",
    "        print(f\"{indent}{node.data}\")\n",
    "        self.display(node.left, indent+\"\\t\")\n",
    "        self.display(node.right, indent+\"\\t\")\n",
    "    \n",
    "    \n",
    "tree = BinaryTree(15)\n",
    "tree.populate(tree.root)\n",
    "tree.display(tree.root, \"\")"
   ]
  },
  {
   "cell_type": "code",
   "execution_count": 19,
   "metadata": {},
   "outputs": [
    {
     "name": "stdout",
     "output_type": "stream",
     "text": [
      "15\n",
      "\t13\n",
      "\t\t14\n",
      "\t\t\t6\n",
      "\t\t\t8\n",
      "\t\t10\n",
      "\t12\n"
     ]
    }
   ],
   "source": [
    "class Node:\n",
    "    def __init__(self, data):\n",
    "        self.data = data\n",
    "        self.left = None\n",
    "        self.right = None\n",
    "        \n",
    "class BinaryTree:\n",
    "    def __init__(self, data):\n",
    "        node = Node(data)\n",
    "        self.root = node\n",
    "        \n",
    "    def populate(self, node, data_list):\n",
    "        if len(data_list) < 2:\n",
    "            return\n",
    "        node.left = Node(data_list[-1])\n",
    "        data_list.pop()\n",
    "        node.right = Node(data_list[-1])\n",
    "        data_list.pop()\n",
    "        self.populate(node.left, data_list)\n",
    "    \n",
    "    def display(self, node, indent):\n",
    "        if node == None:\n",
    "            return\n",
    "        print(f\"{indent}{node.data}\")\n",
    "        self.display(node.left, indent+\"\\t\")\n",
    "        self.display(node.right, indent+\"\\t\")\n",
    "    \n",
    "    \n",
    "tree = BinaryTree(15)\n",
    "data_list = [8, 6, 10, 14, 12, 13]\n",
    "tree.populate(tree.root, data_list)\n",
    "tree.display(tree.root, \"\")"
   ]
  },
  {
   "cell_type": "code",
   "execution_count": 25,
   "metadata": {},
   "outputs": [
    {
     "name": "stdout",
     "output_type": "stream",
     "text": [
      "6 8 10 12 13 14 15 "
     ]
    }
   ],
   "source": [
    "class Node:\n",
    "    def __init__(self, data):\n",
    "        self.data = data\n",
    "        self.left = None\n",
    "        self.right = None\n",
    "        \n",
    "class BST:\n",
    "    def __init__(self, data):\n",
    "        node = Node(data)\n",
    "        self.root = node\n",
    "        \n",
    "    def insert(self, node, data):\n",
    "        if node == None:\n",
    "            node = Node(data)\n",
    "            return node\n",
    "        \n",
    "        if node.data > data:\n",
    "            node.left = self.insert(node.left, data)\n",
    "        else:\n",
    "            node.right = self.insert(node.right, data)\n",
    "\n",
    "        return node\n",
    "    \n",
    "    def in_order_traversal(self, node):\n",
    "        if node:\n",
    "            self.in_order_traversal(node.left)\n",
    "            print(node.data, end=\" \")\n",
    "            self.in_order_traversal(node.right)\n",
    "    \n",
    "    \n",
    "tree = BST(15)\n",
    "data_list = [8, 6, 10, 14, 12, 13]\n",
    "for i in data_list:\n",
    "    tree.insert(tree.root, i)\n",
    "    \n",
    "tree.in_order_traversal(tree.root)"
   ]
  },
  {
   "cell_type": "code",
   "execution_count": 31,
   "metadata": {},
   "outputs": [
    {
     "name": "stdout",
     "output_type": "stream",
     "text": [
      "True\n",
      "False\n"
     ]
    }
   ],
   "source": [
    "def balancedSplitExists(arr):\n",
    "    if len(arr) <= 2:\n",
    "        return False\n",
    "\n",
    "    arr.sort()\n",
    "    \n",
    "    i = 0\n",
    "    j = len(arr)-1\n",
    "\n",
    "    sum1 = arr[i]\n",
    "    sum2 = arr[j]\n",
    "\n",
    "    arr1 = [arr[i]]\n",
    "    arr2 = [arr[j]]\n",
    "\n",
    "    while i < j-1:\n",
    "        if (sum1 <= sum2) or (arr1[-1] == arr[i+1]):\n",
    "            i+=1\n",
    "            arr1.append(arr[i])\n",
    "            sum1 += arr[i]\n",
    "        else:\n",
    "            j-=1\n",
    "            arr2.append(arr[j])\n",
    "            sum2 += arr[j]\n",
    "\n",
    "    if sum1 == sum2:\n",
    "        return True\n",
    "    else:\n",
    "        return False\n",
    "\n",
    "\n",
    "arr_1 = [2, 1, 2, 5]\n",
    "expected_1 = True\n",
    "output_1 = balancedSplitExists(arr_1)\n",
    "print(output_1)\n",
    "\n",
    "arr_2 = [12, 7, 6, 7, 6]\n",
    "expected_2 = False\n",
    "output_2 = balancedSplitExists(arr_2)\n",
    "print(output_2)"
   ]
  },
  {
   "cell_type": "code",
   "execution_count": 34,
   "metadata": {},
   "outputs": [
    {
     "name": "stdout",
     "output_type": "stream",
     "text": [
      "True\n",
      "False\n",
      "True\n"
     ]
    }
   ],
   "source": [
    "def balancedSplitExists(arr):\n",
    "    total_sum = sum(arr)\n",
    "    \n",
    "    if total_sum % 2 != 0:\n",
    "        return False\n",
    "\n",
    "    arr.sort()\n",
    "    \n",
    "    sum_left = 0\n",
    "    for i in range(len(arr)-1):\n",
    "        sum_left += arr[i]\n",
    "        sum_right = total_sum - sum_left\n",
    "        if sum_left == sum_right and arr[i] != arr[i+1]:\n",
    "            return True\n",
    "    \n",
    "    return False\n",
    "\n",
    "\n",
    "arr_1 = [2, 1, 2, 5]\n",
    "expected_1 = True\n",
    "output_1 = balancedSplitExists(arr_1)\n",
    "print(output_1)\n",
    "\n",
    "arr_2 = [12, 7, 6, 7, 6]\n",
    "expected_2 = False\n",
    "output_2 = balancedSplitExists(arr_2)\n",
    "print(output_2)\n",
    "\n",
    "arr_3 = [1, 1, 1, 1, 1, 1, 6]\n",
    "expected_3 = False\n",
    "output_3 = balancedSplitExists(arr_3)\n",
    "print(output_3)"
   ]
  },
  {
   "cell_type": "code",
   "execution_count": 46,
   "metadata": {},
   "outputs": [
    {
     "name": "stdout",
     "output_type": "stream",
     "text": [
      "{'watermelon': 1, 'apple': 2, 'banana': 3}\n",
      "{'banana': 3, 'apple': 2, 'watermelon': 1}\n",
      "[(5, 6, 7), (5, 6, 7), (2, 8, 9), (2, 3, 4), (2, 3, 4)]\n"
     ]
    }
   ],
   "source": [
    "d = {'watermelon': 1, 'apple': 2, 'banana': 3}    \n",
    "\n",
    "val_based = {k: v for k, v in sorted(d.items(), key=lambda item: item[1])}\n",
    "val_based_rev = {k: v for k, v in sorted(d.items(), key=lambda item: item[1], reverse=True)}\n",
    "\n",
    "print(val_based)\n",
    "print(val_based_rev)\n",
    "\n",
    "triangles = [(7, 6, 5), (5, 7, 6), (8, 2, 9), (2, 3, 4), (2, 4, 3)]\n",
    "triangles = list(map(lambda x: tuple(sorted(x)), triangles))\n",
    "print(triangles)"
   ]
  },
  {
   "cell_type": "code",
   "execution_count": 47,
   "metadata": {},
   "outputs": [
    {
     "name": "stdout",
     "output_type": "stream",
     "text": [
      "bac\n",
      "bacd\n"
     ]
    }
   ],
   "source": [
    "def encrypt(s, low, high):\n",
    "    if low > high:\n",
    "        return \"\"\n",
    "\n",
    "    mid = (low+high)//2\n",
    "\n",
    "    return s[mid] + encrypt(s, low, mid-1) + encrypt(s, mid+1, high)\n",
    "\n",
    "def findEncryptedWord(s):\n",
    "    low = 0\n",
    "    high = len(s)-1\n",
    "    r = encrypt(s, low, high)\n",
    "\n",
    "    return r\n",
    "\n",
    "\n",
    "s1 = \"abc\"\n",
    "expected_1 = \"bac\"\n",
    "output_1 = findEncryptedWord(s1)\n",
    "print(output_1)\n",
    "\n",
    "s2 = \"abcd\"\n",
    "expected_2 = \"bacd\"\n",
    "output_2 = findEncryptedWord(s2)\n",
    "print(output_2)"
   ]
  },
  {
   "cell_type": "code",
   "execution_count": 66,
   "metadata": {},
   "outputs": [
    {
     "name": "stdout",
     "output_type": "stream",
     "text": [
      "False\n",
      "False\n"
     ]
    }
   ],
   "source": [
    "def canGetExactChange(targetMoney, denominations):\n",
    "    for d1 in range(len(denominations)):\n",
    "        for d in range(d1, len(denominations)):\n",
    "            targetMoney = targetMoney-denominations[d]\n",
    "            if targetMoney==0:\n",
    "                return True\n",
    "\n",
    "    return False\n",
    "\n",
    "\n",
    "target_1 = 94\n",
    "arr_1 = [5, 10, 25, 100, 200]\n",
    "expected_1 = False\n",
    "output_1 = canGetExactChange(target_1, arr_1)\n",
    "print(output_1)\n",
    "\n",
    "target_2 = 75\n",
    "arr_2 = [4, 17, 29]\n",
    "expected_2 = True\n",
    "output_2 = canGetExactChange(target_2, arr_2)\n",
    "print(output_2)"
   ]
  },
  {
   "cell_type": "markdown",
   "metadata": {},
   "source": [
    "### Doubly linked list"
   ]
  },
  {
   "cell_type": "code",
   "execution_count": 96,
   "metadata": {},
   "outputs": [
    {
     "name": "stdout",
     "output_type": "stream",
     "text": [
      "2 -> 17 -> 10 -> 20 -> End\n",
      "2 -> 17 -> 10 -> 4 -> 20 -> End\n",
      "2 -> 17 -> 10 -> 4 -> 20 -> 12 -> End\n",
      "12 <- 20 <- 4 <- 10 <- 17 <- 2 <- Start\n",
      "2 -> 17 -> 10 -> 4 -> 12 -> End\n"
     ]
    }
   ],
   "source": [
    "class Node:\n",
    "    def __init__(self, data):\n",
    "        self.data = data\n",
    "        self.prev = None\n",
    "        self.next = None\n",
    "        \n",
    "class DoublyLinkedList:\n",
    "    def __init__(self):\n",
    "        self.head = None\n",
    "        self.tail = None\n",
    "        \n",
    "    def is_empty(self):\n",
    "        return self.head\n",
    "        \n",
    "    def insert_at_first(self, data):\n",
    "        node = Node(data)\n",
    "        if not self.head:\n",
    "            self.head = node\n",
    "            self.tail = node\n",
    "        else:\n",
    "            node.next = self.head\n",
    "            self.head.prev = node\n",
    "            self.head = node\n",
    "            \n",
    "    def insert_at_end(self, data):\n",
    "        node = Node(data)\n",
    "        if not self.head:\n",
    "            self.head = node\n",
    "            self.tail = node\n",
    "        else:\n",
    "            node.prev = self.tail\n",
    "            self.tail.next = node\n",
    "            self.tail = node\n",
    "            \n",
    "    def insert_at_pos(self, data, pos):\n",
    "        node = Node(data)\n",
    "        temp = self.head\n",
    "        for i in range(0, pos-1):\n",
    "            temp = temp.next\n",
    "        \n",
    "        if temp.next == None:\n",
    "            self.insert_at_end(data)\n",
    "        else:\n",
    "            node.next = temp.next\n",
    "            temp.next.prev = node\n",
    "            node.prev = temp\n",
    "            temp.next = node\n",
    "            \n",
    "    def delete_at_pos(self, pos):\n",
    "        temp = self.head\n",
    "        for i in range(0, pos-1):\n",
    "            temp = temp.next\n",
    "        \n",
    "        temp.next.next.prev = temp\n",
    "        temp.next = temp.next.next\n",
    "        \n",
    "    def display(self):\n",
    "        temp = self.head\n",
    "        while temp!=None:\n",
    "            print(temp.data, end=\" -> \")\n",
    "            temp = temp.next\n",
    "        print(\"End\")\n",
    "        \n",
    "    def display_reverse(self):\n",
    "        temp = self.tail\n",
    "        while temp!=None:\n",
    "            print(temp.data, end=\" <- \")\n",
    "            temp = temp.prev\n",
    "        print(\"Start\")\n",
    "        \n",
    "    \n",
    "dl = DoublyLinkedList()\n",
    "dl.insert_at_first(17)\n",
    "dl.insert_at_first(2)\n",
    "dl.insert_at_end(10)\n",
    "dl.insert_at_end(20)\n",
    "dl.display()\n",
    "dl.insert_at_pos(4, 3)\n",
    "dl.display()\n",
    "dl.insert_at_pos(12, 5)\n",
    "dl.display()\n",
    "dl.display_reverse()\n",
    "dl.delete_at_pos(4)\n",
    "dl.display()"
   ]
  },
  {
   "cell_type": "markdown",
   "metadata": {},
   "source": [
    "### Circular linked list"
   ]
  },
  {
   "cell_type": "code",
   "execution_count": 114,
   "metadata": {},
   "outputs": [
    {
     "name": "stdout",
     "output_type": "stream",
     "text": [
      "23 -> 3 -> 19 -> 75 -> Head\n",
      "3\n",
      "23 -> 3 -> 19 -> Head\n"
     ]
    }
   ],
   "source": [
    "class Node:\n",
    "    def __init__(self, data):\n",
    "        self.data = data\n",
    "        self.next = None\n",
    "        \n",
    "class CircularLinkedList:\n",
    "    def __init__(self):\n",
    "        self.head = None\n",
    "        self.tail = None\n",
    "        \n",
    "    def insert(self, data):\n",
    "        node = Node(data)\n",
    "        if self.head == None:\n",
    "            self.head = node\n",
    "            self.tail = node\n",
    "        else:\n",
    "            node.next = self.head\n",
    "            self.tail.next = node\n",
    "            self.tail = node\n",
    "            \n",
    "    def delete(self, data):\n",
    "        if self.head == None:\n",
    "            return -1\n",
    "        \n",
    "        node = self.head\n",
    "        if node.data == data:\n",
    "            self.head = node.next\n",
    "            self.tail.next = self.head\n",
    "            return\n",
    "        \n",
    "        print(node.next.data)    \n",
    "        while node.next.data!=data and node.next!=self.head:\n",
    "            node = node.next\n",
    "            \n",
    "        if node.next == self.head:\n",
    "            return -1\n",
    "        elif node.next == self.tail:\n",
    "            node.next = self.head\n",
    "            self.tail = node\n",
    "        else:\n",
    "            node.next = node.next.next\n",
    "            \n",
    "    def display(self):\n",
    "        temp = self.head\n",
    "        print(temp.data, end=\" -> \")\n",
    "        temp = temp.next\n",
    "        while temp!=self.head:\n",
    "            print(temp.data, end=\" -> \")\n",
    "            temp = temp.next\n",
    "        print(\"Head\")\n",
    "        \n",
    "    \n",
    "cl = CircularLinkedList()\n",
    "cl.insert(23)\n",
    "cl.insert(3)\n",
    "cl.insert(19)\n",
    "cl.insert(75)\n",
    "cl.display()\n",
    "cl.delete(75)\n",
    "cl.display()\n"
   ]
  },
  {
   "cell_type": "code",
   "execution_count": 16,
   "metadata": {},
   "outputs": [
    {
     "name": "stdout",
     "output_type": "stream",
     "text": [
      "3 -> 2 -> 4 -> 5 -> End\n",
      "3 -> 2 -> 6 -> 4 -> 5 -> End\n",
      "3 -> 2 -> 6 -> 4 -> 5 -> 9 -> End\n"
     ]
    }
   ],
   "source": [
    "class Node:\n",
    "    def __init__(self, data, next=None):\n",
    "        self.data = data\n",
    "        self.next = next\n",
    "        \n",
    "class LinkedList:\n",
    "    def __init__(self):\n",
    "        self.head = None\n",
    "        \n",
    "    def insert_at_start(self, data):\n",
    "        node = Node(data)\n",
    "        if not self.head:\n",
    "            self.head = node\n",
    "        else:\n",
    "            node.next = self.head\n",
    "            self.head = node\n",
    "            \n",
    "    def insert_at_end(self, data):\n",
    "        node = Node(data)\n",
    "        if not self.head:\n",
    "            self.head = node\n",
    "        else:\n",
    "            temp = self.head\n",
    "            while temp.next:\n",
    "                temp = temp.next\n",
    "            temp.next = node\n",
    "            \n",
    "    def insert_at_pos(self, data, pos):\n",
    "        node = Node(data)\n",
    "        temp = self.head\n",
    "        for i in range(0, pos-1):\n",
    "            temp = temp.next\n",
    "        node.next = temp.next\n",
    "        temp.next = node\n",
    "        \n",
    "    def insert_using_recursion(self, data, pos):\n",
    "        self.head = self.ins_rec(data, pos, self.head)\n",
    "        \n",
    "    def ins_rec(self, data, pos, node):\n",
    "        if pos == 0:\n",
    "            new_node = Node(data, node)\n",
    "            return new_node \n",
    "        \n",
    "        node.next = self.ins_rec(data, pos-1, node.next)\n",
    "        \n",
    "        return node       \n",
    "        \n",
    "    def display(self):\n",
    "        temp = self.head\n",
    "        while temp:\n",
    "            print(temp.data, end=\" -> \")\n",
    "            temp = temp.next\n",
    "        print(\"End\")\n",
    "        \n",
    "        \n",
    "ll = LinkedList()\n",
    "ll.insert_at_start(2)\n",
    "ll.insert_at_start(3)\n",
    "ll.insert_at_end(4)\n",
    "ll.insert_at_pos(5, 3)\n",
    "ll.display()\n",
    "ll.insert_using_recursion(6, 2)\n",
    "ll.display()\n",
    "ll.insert_using_recursion(9, 5)\n",
    "ll.display()"
   ]
  },
  {
   "cell_type": "code",
   "execution_count": 32,
   "metadata": {},
   "outputs": [
    {
     "name": "stdout",
     "output_type": "stream",
     "text": [
      "True\n",
      "True\n"
     ]
    }
   ],
   "source": [
    "def isHappy(n):\n",
    "    slow = square(n)\n",
    "    fast = square(square(n))\n",
    "\n",
    "    if slow == 1 or fast == 1:\n",
    "        return True\n",
    "    \n",
    "    while slow != fast:\n",
    "        slow = square(slow)\n",
    "        fast = square(square(fast))\n",
    "        if slow == 1 or fast == 1:\n",
    "            return True\n",
    "    \n",
    "    return False\n",
    "\n",
    "def square(n):\n",
    "    ans = 0\n",
    "    while n > 0:\n",
    "        rem = n%10\n",
    "        ans += rem*rem\n",
    "        n = n//10\n",
    "\n",
    "    return ans\n",
    "\n",
    "\n",
    "n1 = 19\n",
    "expected_1 = True\n",
    "output_1 = isHappy(n1)\n",
    "print(output_1)\n",
    "\n",
    "n2 = 10\n",
    "expected_2 = False\n",
    "output_2 = isHappy(n2)\n",
    "print(output_2)"
   ]
  },
  {
   "cell_type": "code",
   "execution_count": 33,
   "metadata": {},
   "outputs": [],
   "source": [
    "class ListNode:\n",
    "    def __init__(self, val=0, next=None):\n",
    "        self.val = val\n",
    "        self.next = next\n",
    "        \n",
    "class Solution:\n",
    "    def sortList(self, head):\n",
    "        if not head or not head.next:\n",
    "            return head\n",
    "        \n",
    "        mid = self.getMid(head)\n",
    "        mid_next = mid.next\n",
    "        mid.next = None\n",
    "        \n",
    "        left = self.sortList(head)\n",
    "        right = self.sortList(mid_next)\n",
    "        return self.merge(left, right)\n",
    "\n",
    "    def getMid(self, head):\n",
    "        slow = head\n",
    "        fast = head\n",
    "\n",
    "        while fast.next and fast.next.next:\n",
    "            slow = slow.next\n",
    "            fast = fast.next.next\n",
    "\n",
    "        return slow\n",
    "\n",
    "    def merge(self, node1, node2):\n",
    "        dummy = ListNode()\n",
    "        tail = dummy\n",
    "\n",
    "        while node1 and node2:\n",
    "            if node1.val < node2.val:\n",
    "                tail.next = node1\n",
    "                node1 = node1.next\n",
    "            else:\n",
    "                tail.next = node2\n",
    "                node2 = node2.next\n",
    "            tail = tail.next\n",
    "\n",
    "        if node1:\n",
    "            tail.next = node1\n",
    "        if node2:\n",
    "            tail.next = node2\n",
    "        \n",
    "        return dummy.next"
   ]
  },
  {
   "cell_type": "code",
   "execution_count": null,
   "metadata": {},
   "outputs": [
    {
     "data": {
      "text/plain": [
       "5"
      ]
     },
     "execution_count": 132,
     "metadata": {},
     "output_type": "execute_result"
    }
   ],
   "source": [
    "def search(nums, target):\n",
    "    low = 0\n",
    "    high = len(nums)-1\n",
    "    while low <= high:\n",
    "        mid = (low+high)//2\n",
    "\n",
    "        if target == nums[mid]:\n",
    "            return mid\n",
    "        \n",
    "        # Check if first half is sorted or not\n",
    "        if nums[low] <= nums[mid]:\n",
    "            if target >= nums[low] and target < nums[mid]:\n",
    "                high = mid-1\n",
    "            else:\n",
    "                low = mid+1\n",
    "        else:\n",
    "            if target > nums[mid] and target <= nums[high]:\n",
    "                low = mid+1\n",
    "            else:\n",
    "                high = mid-1\n",
    "\n",
    "    return -1\n",
    "\n",
    "\n",
    "nums = [4,5,6,7,8,1,2,3]\n",
    "target = 1\n",
    "search(nums, target)"
   ]
  },
  {
   "cell_type": "code",
   "execution_count": 49,
   "metadata": {},
   "outputs": [
    {
     "name": "stdout",
     "output_type": "stream",
     "text": [
      "4\n"
     ]
    }
   ],
   "source": [
    "def get_num(stack1, stack2, step, cSum, maxSum):\n",
    "    if stack1 == [] and stack2 == []:\n",
    "        return step\n",
    "    \n",
    "    step1, step2 = step, step\n",
    "    \n",
    "    if stack1:\n",
    "        s = stack1.pop()\n",
    "        if cSum+s <= maxSum:\n",
    "            step1 = get_num(stack1, stack2, step+1, cSum+s, maxSum)\n",
    "        stack1.append(s)\n",
    "        \n",
    "    if stack2:\n",
    "        s = stack2.pop()\n",
    "        if cSum+s <= maxSum:\n",
    "            step2 = get_num(stack1, stack2, step+1, cSum+s, maxSum)\n",
    "        stack2.append(s)\n",
    "        \n",
    "    return max(step1, step2)\n",
    "    \n",
    "\n",
    "stack1 = [5, 2, 1, 1, 3, 1, 6]\n",
    "stack2 = [5, 1, 2, 2, 3]\n",
    "ans = get_num(stack1, stack2, 0, 0, 8)\n",
    "print(ans)\n",
    "\n",
    "# Time Complexity = O(2^(n1+n2))"
   ]
  },
  {
   "cell_type": "code",
   "execution_count": 50,
   "metadata": {},
   "outputs": [
    {
     "name": "stdout",
     "output_type": "stream",
     "text": [
      "5\n"
     ]
    }
   ],
   "source": [
    "def get_num(stack1, stack2, cSum, maxSum, id1, id2, memo):\n",
    "    if id1 == len(stack1) and id2 == len(stack2):\n",
    "        return 0\n",
    "    \n",
    "    if (id1, id2, cSum) in memo:\n",
    "        return memo[(id1, id2, cSum)]\n",
    "    \n",
    "    count1, count2 = 0, 0\n",
    "    if id1 < len(stack1) and cSum+stack1[id1] <= maxSum:\n",
    "        count1 = 1 + get_num(stack1, stack2, cSum+stack1[id1], maxSum, id1+1, id2, memo)\n",
    "        \n",
    "    if id2 < len(stack2) and cSum+stack2[id2] <= maxSum:\n",
    "        count2 = 1 + get_num(stack1, stack2, cSum+stack2[id2], maxSum, id1, id2+1, memo)\n",
    "            \n",
    "    memo[(id1, id2, cSum)] = max(count1, count2)\n",
    "        \n",
    "    return memo[(id1, id2, cSum)]\n",
    "    \n",
    "\n",
    "stack1 = [5, 2, 1, 1, 1, 1, 6]\n",
    "stack2 = [5, 4, 2, 2, 3]\n",
    "memo = {}\n",
    "ans = get_num(stack1, stack2, 0, 10, 0, 0, memo)\n",
    "print(ans)"
   ]
  },
  {
   "cell_type": "code",
   "execution_count": null,
   "metadata": {},
   "outputs": [
    {
     "name": "stdout",
     "output_type": "stream",
     "text": [
      "5\n"
     ]
    }
   ],
   "source": [
    "stack1 = [5, 4, 2, 2, 3]\n",
    "stack2 = [5, 2, 1, 1, 1, 1, 6]\n",
    "maxSum = 10\n",
    "curSum = 0\n",
    "s1 = 0\n",
    "s2 = 0\n",
    "count = 0\n",
    "\n",
    "for i in stack1:\n",
    "    if curSum + i > maxSum:\n",
    "        break\n",
    "    curSum += i\n",
    "    s1 += 1\n",
    "    \n",
    "count = s1\n",
    "    \n",
    "for j in stack2:\n",
    "    curSum += j\n",
    "    s2 += 1\n",
    "    \n",
    "    while curSum > maxSum and s1 > 0:\n",
    "        curSum -= stack1[s1-1]\n",
    "        s1 -= 1\n",
    "        \n",
    "    if curSum <= maxSum:\n",
    "        count = max(count, s1+s2)\n",
    "    else:\n",
    "        break\n",
    "    \n",
    "print(count)\n",
    "\n",
    "# Time Complexity = O(n+m)"
   ]
  },
  {
   "cell_type": "code",
   "execution_count": null,
   "metadata": {},
   "outputs": [],
   "source": []
  },
  {
   "cell_type": "markdown",
   "metadata": {},
   "source": [
    "### In-order traversal to linked list"
   ]
  }
 ],
 "metadata": {
  "kernelspec": {
   "display_name": "base",
   "language": "python",
   "name": "python3"
  },
  "language_info": {
   "codemirror_mode": {
    "name": "ipython",
    "version": 3
   },
   "file_extension": ".py",
   "mimetype": "text/x-python",
   "name": "python",
   "nbconvert_exporter": "python",
   "pygments_lexer": "ipython3",
   "version": "3.11.9"
  }
 },
 "nbformat": 4,
 "nbformat_minor": 2
}
