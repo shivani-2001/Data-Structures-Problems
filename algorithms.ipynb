{
 "cells": [
  {
   "cell_type": "markdown",
   "metadata": {},
   "source": [
    "### Quick-find Problem"
   ]
  },
  {
   "cell_type": "code",
   "execution_count": 1,
   "metadata": {},
   "outputs": [
    {
     "name": "stdout",
     "output_type": "stream",
     "text": [
      "(4, 3)\n",
      "(3, 8)\n",
      "(6, 5)\n",
      "(9, 4)\n",
      "(2, 1)\n",
      "(5, 0)\n",
      "(7, 2)\n",
      "(6, 1)\n"
     ]
    }
   ],
   "source": [
    "class QuickFind:\n",
    "    def __init__(self, n):\n",
    "        self.id = [i for i in range(n)]\n",
    "\n",
    "    def connected(self, p, q):\n",
    "        return self.id[p] == self.id[q]\n",
    "\n",
    "    def union(self, p, q):\n",
    "        pid = self.id[p]\n",
    "        qid = self.id[q]\n",
    "        for i in range(len(self.id)):\n",
    "            if self.id[i] == pid:\n",
    "                self.id[i] = qid\n",
    "\n",
    "\n",
    "n = 10\n",
    "sets = [(4, 3), (3, 8), (6, 5), (9, 4), (2, 1), (8, 9), (5, 0), (7, 2), (6, 1), (1, 0), (6, 7)]\n",
    "\n",
    "Q = QuickFind(n)\n",
    "for set in sets:\n",
    "    if not Q.connected(set[0], set[1]):\n",
    "        Q.union(set[0], set[1])\n",
    "        print(set)\n",
    "\n",
    "        \n",
    "# Time Complexity - O(n^2)\n",
    "# Space Complexity - O(n)"
   ]
  },
  {
   "cell_type": "markdown",
   "metadata": {},
   "source": [
    "### Quick-union Problem"
   ]
  },
  {
   "cell_type": "code",
   "execution_count": 2,
   "metadata": {},
   "outputs": [
    {
     "name": "stdout",
     "output_type": "stream",
     "text": [
      "(4, 3)\n",
      "(3, 8)\n",
      "(6, 5)\n",
      "(9, 4)\n",
      "(2, 1)\n",
      "(5, 0)\n",
      "(7, 2)\n",
      "(6, 1)\n"
     ]
    }
   ],
   "source": [
    "class QuickUnion:\n",
    "    def __init__(self, n):\n",
    "        self.id = [i for i in range(n)]\n",
    "\n",
    "    def root(self, i):\n",
    "        while i != self.id[i]:\n",
    "            i = self.id[i]\n",
    "            \n",
    "        return i\n",
    "    \n",
    "    def connected(self, p, q):\n",
    "        return self.root(p) == self.root(q)\n",
    "    \n",
    "    def union(self, p, q):\n",
    "        self.id[self.root(p)] = self.root(q)\n",
    "        \n",
    "\n",
    "n = 10\n",
    "sets = [(4, 3), (3, 8), (6, 5), (9, 4), (2, 1), (8, 9), (5, 0), (7, 2), (6, 1), (1, 0), (6, 7)]\n",
    "\n",
    "Q = QuickUnion(n)\n",
    "for set in sets:\n",
    "    if not Q.connected(set[0], set[1]):\n",
    "        Q.union(set[0], set[1])\n",
    "        print(set)\n",
    "        \n",
    "        \n",
    "# Trees can get tall and find is too expensive."
   ]
  },
  {
   "cell_type": "markdown",
   "metadata": {},
   "source": [
    "### Weighting"
   ]
  },
  {
   "cell_type": "code",
   "execution_count": 3,
   "metadata": {},
   "outputs": [
    {
     "name": "stdout",
     "output_type": "stream",
     "text": [
      "(4, 3)\n",
      "(3, 8)\n",
      "(6, 5)\n",
      "(9, 4)\n",
      "(2, 1)\n",
      "(5, 0)\n",
      "(7, 2)\n",
      "(6, 1)\n"
     ]
    }
   ],
   "source": [
    "# QuickUnion might put the larger tree lower\n",
    "# Weighted always chose the better alternative\n",
    "\n",
    "class WeightedQuickUnion:\n",
    "    def __init__(self, n):\n",
    "        self.id = [i for i in range(n)]\n",
    "        self.size = [1 for i in range(n)]\n",
    "        \n",
    "    def root(self, i):\n",
    "        while i != self.id[i]:\n",
    "            i = self.id[i]\n",
    "            \n",
    "        return i\n",
    "    \n",
    "    def connected(self, p, q):\n",
    "        return self.root(p) == self.root(q)\n",
    "    \n",
    "    def union(self, p, q):\n",
    "        pid = self.root(p)\n",
    "        qid = self.root(q)\n",
    "        if self.size[pid] < self.size[qid]:\n",
    "            self.id[pid] = qid\n",
    "            self.size[qid] += self.size[pid]\n",
    "        else:\n",
    "            self.id[qid] = pid\n",
    "            self.size[pid] += self.size[qid]\n",
    "            \n",
    "            \n",
    "n = 10\n",
    "sets = [(4, 3), (3, 8), (6, 5), (9, 4), (2, 1), (8, 9), (5, 0), (7, 2), (6, 1), (1, 0), (6, 7)]\n",
    "\n",
    "Q = WeightedQuickUnion(n)\n",
    "for set in sets:\n",
    "    if not Q.connected(set[0], set[1]):\n",
    "        Q.union(set[0], set[1])\n",
    "        print(set)\n",
    "        \n",
    "\n",
    "# Depth of any node x is at most lg(n)"
   ]
  },
  {
   "cell_type": "code",
   "execution_count": 4,
   "metadata": {},
   "outputs": [
    {
     "name": "stdout",
     "output_type": "stream",
     "text": [
      "(4, 3)\n",
      "(3, 8)\n",
      "(6, 5)\n",
      "(9, 4)\n",
      "(2, 1)\n",
      "(5, 0)\n",
      "(7, 2)\n",
      "(6, 1)\n"
     ]
    }
   ],
   "source": [
    "# Path Compression\n",
    "\n",
    "class WeightedPCQuickUnion:\n",
    "    def __init__(self, n):\n",
    "        self.id = [i for i in range(n)]\n",
    "        self.size = [1 for i in range(n)]\n",
    "        \n",
    "    def root(self, i):\n",
    "        while i != self.id[i]:\n",
    "            self.id[i] = self.id[self.id[i]]\n",
    "            i = self.id[i]\n",
    "            \n",
    "        return i\n",
    "    \n",
    "    def connected(self, p, q):\n",
    "        return self.root(p) == self.root(q)\n",
    "    \n",
    "    def union(self, p, q):\n",
    "        pid = self.root(p)\n",
    "        qid = self.root(q)\n",
    "        if self.size[pid] < self.size[qid]:\n",
    "            self.id[pid] = qid\n",
    "            self.size[qid] += self.size[pid]\n",
    "        else:\n",
    "            self.id[qid] = pid\n",
    "            self.size[pid] += self.size[qid]\n",
    "            \n",
    "            \n",
    "n = 10\n",
    "sets = [(4, 3), (3, 8), (6, 5), (9, 4), (2, 1), (8, 9), (5, 0), (7, 2), (6, 1), (1, 0), (6, 7)]\n",
    "\n",
    "Q = WeightedQuickUnion(n)\n",
    "for set in sets:\n",
    "    if not Q.connected(set[0], set[1]):\n",
    "        Q.union(set[0], set[1])\n",
    "        print(set)\n",
    "        \n",
    "\n",
    "# Only one extra line of code keeps tree almost flat."
   ]
  }
 ],
 "metadata": {
  "kernelspec": {
   "display_name": "base",
   "language": "python",
   "name": "python3"
  },
  "language_info": {
   "codemirror_mode": {
    "name": "ipython",
    "version": 3
   },
   "file_extension": ".py",
   "mimetype": "text/x-python",
   "name": "python",
   "nbconvert_exporter": "python",
   "pygments_lexer": "ipython3",
   "version": "3.11.9"
  }
 },
 "nbformat": 4,
 "nbformat_minor": 2
}
